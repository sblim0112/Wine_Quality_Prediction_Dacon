{
 "cells": [
  {
   "cell_type": "markdown",
   "metadata": {},
   "source": [
    "## 라이브러리 import"
   ]
  },
  {
   "cell_type": "code",
   "execution_count": 1,
   "metadata": {},
   "outputs": [
    {
     "name": "stdout",
     "output_type": "stream",
     "text": [
      "Let's start!\n"
     ]
    }
   ],
   "source": [
    "import numpy as np\n",
    "import pandas as pd\n",
    "\n",
    "from lightgbm import LGBMClassifier\n",
    "from xgboost import XGBClassifier\n",
    "from catboost import CatBoostClassifier\n",
    "from sklearn.ensemble import RandomForestClassifier, ExtraTreesClassifier\n",
    "from sklearn.svm import SVC\n",
    "from sklearn.neighbors import KNeighborsClassifier\n",
    "\n",
    "from sklearn.model_selection import StratifiedKFold, train_test_split, cross_val_score\n",
    "from sklearn.preprocessing import StandardScaler\n",
    "\n",
    "from sklearn.metrics import classification_report, accuracy_score, log_loss, balanced_accuracy_score\n",
    "import matplotlib.pyplot as plt\n",
    "import seaborn as sns\n",
    "\n",
    "import warnings\n",
    "\n",
    "from collections import Counter\n",
    "from imblearn.over_sampling import SMOTE\n",
    "from imblearn.over_sampling import ADASYN\n",
    "\n",
    "import optuna\n",
    "from optuna.samplers import TPESampler\n",
    "from tqdm import tqdm\n",
    "\n",
    "\n",
    "plt.rcParams['axes.unicode_minus'] = False\n",
    "plt.style.use('fivethirtyeight')\n",
    "sns.set(font_scale = 1)  \n",
    "pd.set_option('display.max_columns', None)\n",
    "warnings.filterwarnings('ignore')\n",
    "\n",
    "print(\"Let's start!\")"
   ]
  },
  {
   "cell_type": "markdown",
   "metadata": {},
   "source": [
    "## 와인 품질 예측!"
   ]
  },
  {
   "cell_type": "markdown",
   "metadata": {},
   "source": [
    "<br>\n",
    "\n",
    "<img \n",
    "     src=\"http://masism.kr/wp-content/uploads/2020/09/C-3.jpg\">\n",
    "     \n",
    "<br>"
   ]
  },
  {
   "cell_type": "markdown",
   "metadata": {},
   "source": [
    "<br>\n",
    "\n",
    "## 데이터 로드\n",
    "\n",
    "데이터는 train, test 데이터 모두 3231개의 행으로 이루어져 있습니다.\n",
    "\n",
    "독립변수는 총 12개, 종속변수는 quality입니다."
   ]
  },
  {
   "cell_type": "code",
   "execution_count": 2,
   "metadata": {},
   "outputs": [
    {
     "data": {
      "text/plain": [
       "(3231, 13)"
      ]
     },
     "metadata": {},
     "output_type": "display_data"
    },
    {
     "data": {
      "text/html": [
       "<div>\n",
       "<style scoped>\n",
       "    .dataframe tbody tr th:only-of-type {\n",
       "        vertical-align: middle;\n",
       "    }\n",
       "\n",
       "    .dataframe tbody tr th {\n",
       "        vertical-align: top;\n",
       "    }\n",
       "\n",
       "    .dataframe thead th {\n",
       "        text-align: right;\n",
       "    }\n",
       "</style>\n",
       "<table border=\"1\" class=\"dataframe\">\n",
       "  <thead>\n",
       "    <tr style=\"text-align: right;\">\n",
       "      <th></th>\n",
       "      <th>fixed acidity</th>\n",
       "      <th>volatile acidity</th>\n",
       "      <th>citric acid</th>\n",
       "      <th>residual sugar</th>\n",
       "      <th>chlorides</th>\n",
       "      <th>free sulfur dioxide</th>\n",
       "      <th>total sulfur dioxide</th>\n",
       "      <th>density</th>\n",
       "      <th>pH</th>\n",
       "      <th>sulphates</th>\n",
       "      <th>alcohol</th>\n",
       "      <th>type</th>\n",
       "      <th>quality</th>\n",
       "    </tr>\n",
       "    <tr>\n",
       "      <th>id</th>\n",
       "      <th></th>\n",
       "      <th></th>\n",
       "      <th></th>\n",
       "      <th></th>\n",
       "      <th></th>\n",
       "      <th></th>\n",
       "      <th></th>\n",
       "      <th></th>\n",
       "      <th></th>\n",
       "      <th></th>\n",
       "      <th></th>\n",
       "      <th></th>\n",
       "      <th></th>\n",
       "    </tr>\n",
       "  </thead>\n",
       "  <tbody>\n",
       "    <tr>\n",
       "      <th>1</th>\n",
       "      <td>8.0</td>\n",
       "      <td>0.18</td>\n",
       "      <td>0.37</td>\n",
       "      <td>1.3</td>\n",
       "      <td>0.040</td>\n",
       "      <td>15.0</td>\n",
       "      <td>96.0</td>\n",
       "      <td>0.99120</td>\n",
       "      <td>3.06</td>\n",
       "      <td>0.61</td>\n",
       "      <td>12.1</td>\n",
       "      <td>white</td>\n",
       "      <td>6</td>\n",
       "    </tr>\n",
       "    <tr>\n",
       "      <th>2</th>\n",
       "      <td>7.5</td>\n",
       "      <td>0.38</td>\n",
       "      <td>0.29</td>\n",
       "      <td>4.9</td>\n",
       "      <td>0.021</td>\n",
       "      <td>38.0</td>\n",
       "      <td>113.0</td>\n",
       "      <td>0.99026</td>\n",
       "      <td>3.08</td>\n",
       "      <td>0.48</td>\n",
       "      <td>13.0</td>\n",
       "      <td>white</td>\n",
       "      <td>7</td>\n",
       "    </tr>\n",
       "    <tr>\n",
       "      <th>3</th>\n",
       "      <td>6.1</td>\n",
       "      <td>0.27</td>\n",
       "      <td>0.33</td>\n",
       "      <td>2.2</td>\n",
       "      <td>0.021</td>\n",
       "      <td>26.0</td>\n",
       "      <td>117.0</td>\n",
       "      <td>0.98860</td>\n",
       "      <td>3.12</td>\n",
       "      <td>0.30</td>\n",
       "      <td>12.5</td>\n",
       "      <td>white</td>\n",
       "      <td>6</td>\n",
       "    </tr>\n",
       "  </tbody>\n",
       "</table>\n",
       "</div>"
      ],
      "text/plain": [
       "    fixed acidity  volatile acidity  citric acid  residual sugar  chlorides  \\\n",
       "id                                                                            \n",
       "1             8.0              0.18         0.37             1.3      0.040   \n",
       "2             7.5              0.38         0.29             4.9      0.021   \n",
       "3             6.1              0.27         0.33             2.2      0.021   \n",
       "\n",
       "    free sulfur dioxide  total sulfur dioxide  density    pH  sulphates  \\\n",
       "id                                                                        \n",
       "1                  15.0                  96.0  0.99120  3.06       0.61   \n",
       "2                  38.0                 113.0  0.99026  3.08       0.48   \n",
       "3                  26.0                 117.0  0.98860  3.12       0.30   \n",
       "\n",
       "    alcohol   type  quality  \n",
       "id                           \n",
       "1      12.1  white        6  \n",
       "2      13.0  white        7  \n",
       "3      12.5  white        6  "
      ]
     },
     "metadata": {},
     "output_type": "display_data"
    },
    {
     "data": {
      "text/plain": [
       "(3231, 12)"
      ]
     },
     "metadata": {},
     "output_type": "display_data"
    },
    {
     "data": {
      "text/html": [
       "<div>\n",
       "<style scoped>\n",
       "    .dataframe tbody tr th:only-of-type {\n",
       "        vertical-align: middle;\n",
       "    }\n",
       "\n",
       "    .dataframe tbody tr th {\n",
       "        vertical-align: top;\n",
       "    }\n",
       "\n",
       "    .dataframe thead th {\n",
       "        text-align: right;\n",
       "    }\n",
       "</style>\n",
       "<table border=\"1\" class=\"dataframe\">\n",
       "  <thead>\n",
       "    <tr style=\"text-align: right;\">\n",
       "      <th></th>\n",
       "      <th>fixed acidity</th>\n",
       "      <th>volatile acidity</th>\n",
       "      <th>citric acid</th>\n",
       "      <th>residual sugar</th>\n",
       "      <th>chlorides</th>\n",
       "      <th>free sulfur dioxide</th>\n",
       "      <th>total sulfur dioxide</th>\n",
       "      <th>density</th>\n",
       "      <th>pH</th>\n",
       "      <th>sulphates</th>\n",
       "      <th>alcohol</th>\n",
       "      <th>type</th>\n",
       "    </tr>\n",
       "    <tr>\n",
       "      <th>id</th>\n",
       "      <th></th>\n",
       "      <th></th>\n",
       "      <th></th>\n",
       "      <th></th>\n",
       "      <th></th>\n",
       "      <th></th>\n",
       "      <th></th>\n",
       "      <th></th>\n",
       "      <th></th>\n",
       "      <th></th>\n",
       "      <th></th>\n",
       "      <th></th>\n",
       "    </tr>\n",
       "  </thead>\n",
       "  <tbody>\n",
       "    <tr>\n",
       "      <th>1</th>\n",
       "      <td>7.3</td>\n",
       "      <td>0.31</td>\n",
       "      <td>0.25</td>\n",
       "      <td>6.65</td>\n",
       "      <td>0.032</td>\n",
       "      <td>30.0</td>\n",
       "      <td>138.0</td>\n",
       "      <td>0.99244</td>\n",
       "      <td>2.90</td>\n",
       "      <td>0.37</td>\n",
       "      <td>11.1</td>\n",
       "      <td>white</td>\n",
       "    </tr>\n",
       "    <tr>\n",
       "      <th>2</th>\n",
       "      <td>8.7</td>\n",
       "      <td>0.70</td>\n",
       "      <td>0.24</td>\n",
       "      <td>2.50</td>\n",
       "      <td>0.226</td>\n",
       "      <td>5.0</td>\n",
       "      <td>15.0</td>\n",
       "      <td>0.99910</td>\n",
       "      <td>3.32</td>\n",
       "      <td>0.60</td>\n",
       "      <td>9.0</td>\n",
       "      <td>red</td>\n",
       "    </tr>\n",
       "    <tr>\n",
       "      <th>3</th>\n",
       "      <td>6.9</td>\n",
       "      <td>0.63</td>\n",
       "      <td>0.01</td>\n",
       "      <td>2.40</td>\n",
       "      <td>0.076</td>\n",
       "      <td>14.0</td>\n",
       "      <td>39.0</td>\n",
       "      <td>0.99522</td>\n",
       "      <td>3.34</td>\n",
       "      <td>0.53</td>\n",
       "      <td>10.8</td>\n",
       "      <td>red</td>\n",
       "    </tr>\n",
       "  </tbody>\n",
       "</table>\n",
       "</div>"
      ],
      "text/plain": [
       "    fixed acidity  volatile acidity  citric acid  residual sugar  chlorides  \\\n",
       "id                                                                            \n",
       "1             7.3              0.31         0.25            6.65      0.032   \n",
       "2             8.7              0.70         0.24            2.50      0.226   \n",
       "3             6.9              0.63         0.01            2.40      0.076   \n",
       "\n",
       "    free sulfur dioxide  total sulfur dioxide  density    pH  sulphates  \\\n",
       "id                                                                        \n",
       "1                  30.0                 138.0  0.99244  2.90       0.37   \n",
       "2                   5.0                  15.0  0.99910  3.32       0.60   \n",
       "3                  14.0                  39.0  0.99522  3.34       0.53   \n",
       "\n",
       "    alcohol   type  \n",
       "id                  \n",
       "1      11.1  white  \n",
       "2       9.0    red  \n",
       "3      10.8    red  "
      ]
     },
     "metadata": {},
     "output_type": "display_data"
    }
   ],
   "source": [
    "train = pd.read_csv(\"./dataset/train.csv\", index_col='id')\n",
    "test = pd.read_csv(\"./dataset/test.csv\", index_col='id')\n",
    "\n",
    "display(train.shape, train.head(3), test.shape, test.head(3))"
   ]
  },
  {
   "cell_type": "markdown",
   "metadata": {},
   "source": [
    "<br>\n",
    "\n",
    "\n",
    "각각의 변수들에 대한 설명은 다음과 같습니다.\n",
    "\n",
    "* id : 식별 고유값 --> 데이터의 인덱스로만 사용할 것입니다.\n",
    "\n",
    "* fixed acidity : 고정(비휘발성) 산도: 와인과 관련된 대부분의 산\n",
    "\n",
    "* volatile acidity : 휘발성 산도: 와인에 함유된 아세트산의 양. 너무 높으면 불쾌한 식초 맛이 날 수 있음\n",
    "\n",
    "* citric acid : 구연산: 소량으로 발견되며, 와인에 풍미를 더할 수 있음\n",
    "\n",
    "* residual sugar : 잔여 당분: 발효가 멈춘 후 남은 설탕의 양으로 1g/L 미만의 와인은 드물며 45g/L 이상의 와인은 단맛으로 간주함\n",
    "\n",
    "* chlorides : 염소화물: 와인의 염분량\n",
    "\n",
    "* free sulfur dioxide : 유리 이산화황: 미생물의 성장과 와인의 산화를 방지함\n",
    "\n",
    "* total sulfur dioxide : 총 이산화황: 저농도에서는 대부분 맛이 나지 않으나 50ppm 이상의 농도에서 맛에서 뚜렷하게 나타남\n",
    "\n",
    "* density : 밀도: 알코올 및 당 함량에 따라 변함\n",
    "\n",
    "* pH : 산성 또는 염기성 정도. 0(매우 산성) ~ 14(매우 염기성). 대부분의 와인은 pH 3-4 사이임\n",
    "\n",
    "* sulphates : 황산염: 이산화황 농도에 기여할 수 있는 와인 첨가제. 항균 및 항산화제로 작용\n",
    "\n",
    "* alcohol : 와인의 알코올 함량 백분율\n",
    "\n",
    "* type : 와인에 사용된 포도의 종류. Red(적포도주), White(백포도주)로 나뉨\n",
    "\n",
    "* quality : 맛으로 평가된 와인의 품질"
   ]
  },
  {
   "cell_type": "markdown",
   "metadata": {},
   "source": [
    "<br>\n",
    "\n",
    "## EDA\n"
   ]
  },
  {
   "cell_type": "markdown",
   "metadata": {},
   "source": [
    "### 데이터 기본 정보\n",
    "\n",
    "\n",
    "단순히 `train.info()` 만으로도 충분히 볼 수 있는 데이터이지만, 변수의 수가 100개가 넘는 데이터를 다룰 일들도 생길 것입니다.\n",
    "\n",
    "변수의 수가 굉장히 많으면 `.info()` 메서드로는 출력이 안 될 수도 있는데요,\n",
    "\n",
    "따라서 간단한 for문을 이용해서 각 변수의 고유한 값의 갯수까지 한 눈에 파악할 수 있도록 아래와 같이 구현해 보았습니다. "
   ]
  },
  {
   "cell_type": "code",
   "execution_count": 3,
   "metadata": {},
   "outputs": [
    {
     "data": {
      "text/html": [
       "<div>\n",
       "<style scoped>\n",
       "    .dataframe tbody tr th:only-of-type {\n",
       "        vertical-align: middle;\n",
       "    }\n",
       "\n",
       "    .dataframe tbody tr th {\n",
       "        vertical-align: top;\n",
       "    }\n",
       "\n",
       "    .dataframe thead th {\n",
       "        text-align: right;\n",
       "    }\n",
       "</style>\n",
       "<table border=\"1\" class=\"dataframe\">\n",
       "  <thead>\n",
       "    <tr style=\"text-align: right;\">\n",
       "      <th></th>\n",
       "      <th>Name of Col</th>\n",
       "      <th>Name of Null</th>\n",
       "      <th>Dtype</th>\n",
       "      <th>N_Unique</th>\n",
       "    </tr>\n",
       "  </thead>\n",
       "  <tbody>\n",
       "    <tr>\n",
       "      <th>0</th>\n",
       "      <td>fixed acidity</td>\n",
       "      <td>0</td>\n",
       "      <td>float64</td>\n",
       "      <td>99</td>\n",
       "    </tr>\n",
       "    <tr>\n",
       "      <th>1</th>\n",
       "      <td>volatile acidity</td>\n",
       "      <td>0</td>\n",
       "      <td>float64</td>\n",
       "      <td>159</td>\n",
       "    </tr>\n",
       "    <tr>\n",
       "      <th>2</th>\n",
       "      <td>citric acid</td>\n",
       "      <td>0</td>\n",
       "      <td>float64</td>\n",
       "      <td>86</td>\n",
       "    </tr>\n",
       "    <tr>\n",
       "      <th>3</th>\n",
       "      <td>residual sugar</td>\n",
       "      <td>0</td>\n",
       "      <td>float64</td>\n",
       "      <td>277</td>\n",
       "    </tr>\n",
       "    <tr>\n",
       "      <th>4</th>\n",
       "      <td>chlorides</td>\n",
       "      <td>0</td>\n",
       "      <td>float64</td>\n",
       "      <td>168</td>\n",
       "    </tr>\n",
       "    <tr>\n",
       "      <th>5</th>\n",
       "      <td>free sulfur dioxide</td>\n",
       "      <td>0</td>\n",
       "      <td>float64</td>\n",
       "      <td>115</td>\n",
       "    </tr>\n",
       "    <tr>\n",
       "      <th>6</th>\n",
       "      <td>total sulfur dioxide</td>\n",
       "      <td>0</td>\n",
       "      <td>float64</td>\n",
       "      <td>260</td>\n",
       "    </tr>\n",
       "    <tr>\n",
       "      <th>7</th>\n",
       "      <td>density</td>\n",
       "      <td>0</td>\n",
       "      <td>float64</td>\n",
       "      <td>806</td>\n",
       "    </tr>\n",
       "    <tr>\n",
       "      <th>8</th>\n",
       "      <td>pH</td>\n",
       "      <td>0</td>\n",
       "      <td>float64</td>\n",
       "      <td>105</td>\n",
       "    </tr>\n",
       "    <tr>\n",
       "      <th>9</th>\n",
       "      <td>sulphates</td>\n",
       "      <td>0</td>\n",
       "      <td>float64</td>\n",
       "      <td>101</td>\n",
       "    </tr>\n",
       "    <tr>\n",
       "      <th>10</th>\n",
       "      <td>alcohol</td>\n",
       "      <td>0</td>\n",
       "      <td>float64</td>\n",
       "      <td>94</td>\n",
       "    </tr>\n",
       "    <tr>\n",
       "      <th>11</th>\n",
       "      <td>type</td>\n",
       "      <td>0</td>\n",
       "      <td>object</td>\n",
       "      <td>2</td>\n",
       "    </tr>\n",
       "    <tr>\n",
       "      <th>12</th>\n",
       "      <td>quality</td>\n",
       "      <td>0</td>\n",
       "      <td>int64</td>\n",
       "      <td>5</td>\n",
       "    </tr>\n",
       "  </tbody>\n",
       "</table>\n",
       "</div>"
      ],
      "text/plain": [
       "             Name of Col Name of Null    Dtype N_Unique\n",
       "0          fixed acidity            0  float64       99\n",
       "1       volatile acidity            0  float64      159\n",
       "2            citric acid            0  float64       86\n",
       "3         residual sugar            0  float64      277\n",
       "4              chlorides            0  float64      168\n",
       "5    free sulfur dioxide            0  float64      115\n",
       "6   total sulfur dioxide            0  float64      260\n",
       "7                density            0  float64      806\n",
       "8                     pH            0  float64      105\n",
       "9              sulphates            0  float64      101\n",
       "10               alcohol            0  float64       94\n",
       "11                  type            0   object        2\n",
       "12               quality            0    int64        5"
      ]
     },
     "execution_count": 3,
     "metadata": {},
     "output_type": "execute_result"
    }
   ],
   "source": [
    "train_info = pd.DataFrame(columns = ['Name of Col', 'Name of Null', 'Dtype', 'N_Unique'])\n",
    "\n",
    "for i in range(0, len(train.columns)):\n",
    "    train_info.loc[i] = [train.columns[i],\n",
    "                        train[train.columns[i]].isnull().sum(),\n",
    "                        train[train.columns[i]].dtypes,\n",
    "                        train[train.columns[i]].nunique()]\n",
    "    \n",
    "train_info"
   ]
  },
  {
   "cell_type": "code",
   "execution_count": 4,
   "metadata": {},
   "outputs": [
    {
     "data": {
      "text/html": [
       "<div>\n",
       "<style scoped>\n",
       "    .dataframe tbody tr th:only-of-type {\n",
       "        vertical-align: middle;\n",
       "    }\n",
       "\n",
       "    .dataframe tbody tr th {\n",
       "        vertical-align: top;\n",
       "    }\n",
       "\n",
       "    .dataframe thead th {\n",
       "        text-align: right;\n",
       "    }\n",
       "</style>\n",
       "<table border=\"1\" class=\"dataframe\">\n",
       "  <thead>\n",
       "    <tr style=\"text-align: right;\">\n",
       "      <th></th>\n",
       "      <th>Name of Col</th>\n",
       "      <th>Name of Null</th>\n",
       "      <th>Dtype</th>\n",
       "      <th>N_Unique</th>\n",
       "    </tr>\n",
       "  </thead>\n",
       "  <tbody>\n",
       "    <tr>\n",
       "      <th>0</th>\n",
       "      <td>fixed acidity</td>\n",
       "      <td>0</td>\n",
       "      <td>float64</td>\n",
       "      <td>92</td>\n",
       "    </tr>\n",
       "    <tr>\n",
       "      <th>1</th>\n",
       "      <td>volatile acidity</td>\n",
       "      <td>0</td>\n",
       "      <td>float64</td>\n",
       "      <td>159</td>\n",
       "    </tr>\n",
       "    <tr>\n",
       "      <th>2</th>\n",
       "      <td>citric acid</td>\n",
       "      <td>0</td>\n",
       "      <td>float64</td>\n",
       "      <td>84</td>\n",
       "    </tr>\n",
       "    <tr>\n",
       "      <th>3</th>\n",
       "      <td>residual sugar</td>\n",
       "      <td>0</td>\n",
       "      <td>float64</td>\n",
       "      <td>265</td>\n",
       "    </tr>\n",
       "    <tr>\n",
       "      <th>4</th>\n",
       "      <td>chlorides</td>\n",
       "      <td>0</td>\n",
       "      <td>float64</td>\n",
       "      <td>171</td>\n",
       "    </tr>\n",
       "    <tr>\n",
       "      <th>5</th>\n",
       "      <td>free sulfur dioxide</td>\n",
       "      <td>0</td>\n",
       "      <td>float64</td>\n",
       "      <td>106</td>\n",
       "    </tr>\n",
       "    <tr>\n",
       "      <th>6</th>\n",
       "      <td>total sulfur dioxide</td>\n",
       "      <td>0</td>\n",
       "      <td>float64</td>\n",
       "      <td>258</td>\n",
       "    </tr>\n",
       "    <tr>\n",
       "      <th>7</th>\n",
       "      <td>density</td>\n",
       "      <td>0</td>\n",
       "      <td>float64</td>\n",
       "      <td>816</td>\n",
       "    </tr>\n",
       "    <tr>\n",
       "      <th>8</th>\n",
       "      <td>pH</td>\n",
       "      <td>0</td>\n",
       "      <td>float64</td>\n",
       "      <td>100</td>\n",
       "    </tr>\n",
       "    <tr>\n",
       "      <th>9</th>\n",
       "      <td>sulphates</td>\n",
       "      <td>0</td>\n",
       "      <td>float64</td>\n",
       "      <td>97</td>\n",
       "    </tr>\n",
       "    <tr>\n",
       "      <th>10</th>\n",
       "      <td>alcohol</td>\n",
       "      <td>0</td>\n",
       "      <td>float64</td>\n",
       "      <td>85</td>\n",
       "    </tr>\n",
       "    <tr>\n",
       "      <th>11</th>\n",
       "      <td>type</td>\n",
       "      <td>0</td>\n",
       "      <td>object</td>\n",
       "      <td>2</td>\n",
       "    </tr>\n",
       "  </tbody>\n",
       "</table>\n",
       "</div>"
      ],
      "text/plain": [
       "             Name of Col Name of Null    Dtype N_Unique\n",
       "0          fixed acidity            0  float64       92\n",
       "1       volatile acidity            0  float64      159\n",
       "2            citric acid            0  float64       84\n",
       "3         residual sugar            0  float64      265\n",
       "4              chlorides            0  float64      171\n",
       "5    free sulfur dioxide            0  float64      106\n",
       "6   total sulfur dioxide            0  float64      258\n",
       "7                density            0  float64      816\n",
       "8                     pH            0  float64      100\n",
       "9              sulphates            0  float64       97\n",
       "10               alcohol            0  float64       85\n",
       "11                  type            0   object        2"
      ]
     },
     "execution_count": 4,
     "metadata": {},
     "output_type": "execute_result"
    }
   ],
   "source": [
    "test_info = pd.DataFrame(columns = ['Name of Col', 'Name of Null', 'Dtype', 'N_Unique'])\n",
    "\n",
    "for i in range(0, len(test.columns)):\n",
    "    test_info.loc[i] = [test.columns[i],\n",
    "                        test[test.columns[i]].isnull().sum(),\n",
    "                        test[test.columns[i]].dtypes,\n",
    "                        test[test.columns[i]].nunique()]\n",
    "    \n",
    "test_info"
   ]
  },
  {
   "cell_type": "markdown",
   "metadata": {},
   "source": [
    "<br>\n",
    "\n",
    "1. null data는 없음\n",
    "\n",
    "2. type컬럼만 object type. 향후 onehot encoding 또는 label encoding\n",
    "\n",
    "<br>"
   ]
  },
  {
   "cell_type": "markdown",
   "metadata": {},
   "source": [
    "<br>\n",
    "\n",
    "### 종속변수의 분포\n",
    "\n",
    "타겟변수인 quality의 불균형이 높은 편.\n",
    "\n",
    "1. 4와 8은 각각 약 3%로 분포\n",
    "\n",
    "2. 5와 6을 합쳐서 76.8%로 분포\n",
    "\n",
    "3. 모델이 5와 6으로만 지나치게 예측할 가능성이 높음\n",
    "\n",
    "\n",
    "<br>"
   ]
  },
  {
   "cell_type": "code",
   "execution_count": 11,
   "metadata": {},
   "outputs": [
    {
     "data": {
      "image/png": "[encoded data removed]",
      "text/plain": [
       "<Figure size 576x360 with 1 Axes>"
      ]
     },
     "metadata": {},
     "output_type": "display_data"
    }
   ],
   "source": [
    "plt.figure(figsize=(8, 5))\n",
    "ax = sns.countplot(train['quality'])\n",
    "\n",
    "ax.bar_label(ax.containers[0])\n",
    "plt.title(\"Distribution of Target Variable\")\n",
    "\n",
    "ax.set_ylim(0, 1600)\n",
    "\n",
    "plt.show()"
   ]
  },
  {
   "cell_type": "code",
   "execution_count": 12,
   "metadata": {},
   "outputs": [
    {
     "data": {
      "text/plain": [
       "6    0.438873\n",
       "5    0.330857\n",
       "7    0.166821\n",
       "4    0.033426\n",
       "8    0.030022\n",
       "Name: quality, dtype: float64"
      ]
     },
     "execution_count": 12,
     "metadata": {},
     "output_type": "execute_result"
    }
   ],
   "source": [
    "train.quality.value_counts(normalize=True)"
   ]
  },
  {
   "cell_type": "markdown",
   "metadata": {},
   "source": [
    "<br>\n",
    "\n",
    "### 수치형 변수 분포\n",
    "\n",
    "수치형 변수들의 분포를 train과 test 함께 비교해본 결과, train과 test가 거의 비슷하게 분포하고 있음을 알 수 있습니다.\n",
    "\n",
    "왜도를 함께 확인한 결과, chlorides 변수를 제외하고는 치우침이 크지 않은 것으로 보입니다.(-2와 +2 사이가 기준)\n",
    "\n",
    "변수 중에 치우친 변수가 있기 때문에 데이터 스케일링이 필요하다고 판단됩니다.\n",
    "\n"
   ]
  },
  {
   "cell_type": "code",
   "execution_count": 13,
   "metadata": {},
   "outputs": [],
   "source": [
    "num_cols = list(train._get_numeric_data().columns[:-1])\n",
    "df = pd.concat([train[num_cols], test[num_cols]], axis=0)\n",
    "df['label'] = 'test'\n",
    "df['label'][:3231] = 'train'"
   ]
  },
  {
   "cell_type": "code",
   "execution_count": 14,
   "metadata": {
    "scrolled": false
   },
   "outputs": [
    {
     "data": {
      "image/png": "[encoded data removed]",
      "text/plain": [
       "<Figure size 864x1080 with 12 Axes>"
      ]
     },
     "metadata": {},
     "output_type": "display_data"
    }
   ],
   "source": [
    "fig, axes = plt.subplots(4, 3, figsize = (12, 15), sharey=False)\n",
    "\n",
    "for i, feature in enumerate(num_cols):\n",
    "    sns.histplot(data = df, x = feature, hue = 'label', ax = axes[i//3][i%3])\n",
    "    axes[i//3][i%3].set_title(f'skewness: {df[feature].skew():.4f}', fontsize = 12)\n",
    "    plt.subplots_adjust(hspace = 0.5)\n",
    "    \n",
    "fig.suptitle('Distribution of Numerical Features - Comparison btw train and test', fontsize = 18,fontweight='bold')\n",
    "plt.show()"
   ]
  },
  {
   "cell_type": "markdown",
   "metadata": {},
   "source": [
    "<br>\n",
    "\n",
    "### 범주형 변수 분포\n",
    "\n",
    "train, test 데이터 간의 불균형은 없으나, red에 비해 white에 대한 비중이 3배 이상 높은 것으로 보입니다.\n",
    "\n"
   ]
  },
  {
   "cell_type": "code",
   "execution_count": 15,
   "metadata": {},
   "outputs": [],
   "source": [
    "cat_col = 'type'\n",
    "df2 = pd.concat([pd.DataFrame(train[cat_col]), pd.DataFrame(test[cat_col])])\n",
    "df2['label'] = 'test'\n",
    "df2['label'][:3231] = 'train'"
   ]
  },
  {
   "cell_type": "code",
   "execution_count": 16,
   "metadata": {},
   "outputs": [
    {
     "data": {
      "image/png": "[encoded data removed]",
      "text/plain": [
       "<Figure size 432x144 with 1 Axes>"
      ]
     },
     "metadata": {},
     "output_type": "display_data"
    }
   ],
   "source": [
    "plt.figure(figsize = (6, 2))\n",
    "\n",
    "sns.histplot(data = df2, y = 'type', hue = 'label')\n",
    "\n",
    "plt.suptitle('Distribution of Categorical Features - Comparison btw train and test', fontsize = 12,fontweight='bold')\n",
    "plt.show()"
   ]
  },
  {
   "cell_type": "markdown",
   "metadata": {},
   "source": [
    "<br>\n",
    "\n",
    "### 각 독립변수별 quality와의 관계 분석\n",
    "\n",
    "각 변수들이 quality에 미치는 영향이 유의미한지를 확인해 보고자 합니다. \n",
    "\n",
    "<br>"
   ]
  },
  {
   "cell_type": "code",
   "execution_count": 17,
   "metadata": {},
   "outputs": [],
   "source": [
    "# 피벗테이블 생성\n",
    "def create_pivot(n):\n",
    "    pivot_df = pd.pivot_table(data = train, index = 'quality', values = num_cols[n], aggfunc = ['mean', 'count'])\n",
    "    pivot_df['ratio, %'] = round(pivot_df[('count', num_cols[n])] / len(train) * 100, 2)\n",
    "    return pivot_df\n",
    "\n",
    "# hist plot 생성\n",
    "def create_plot(n):\n",
    "    sns.histplot(data = train, x = num_cols[n], hue = 'quality', palette = 'colorblind')\n",
    "    plt.show()"
   ]
  },
  {
   "cell_type": "markdown",
   "metadata": {},
   "source": [
    "<br>\n",
    "\n",
    "#### fixed acidity: 고정(비휘발성) 산도\n",
    "+ 와인과 관련된 대부분의 산\n",
    "\n",
    "<br>"
   ]
  },
  {
   "cell_type": "code",
   "execution_count": 18,
   "metadata": {
    "scrolled": false
   },
   "outputs": [
    {
     "data": {
      "image/png": "[encoded data removed]",
      "text/plain": [
       "<Figure size 432x288 with 1 Axes>"
      ]
     },
     "metadata": {},
     "output_type": "display_data"
    },
    {
     "data": {
      "text/html": [
       "<div>\n",
       "<style scoped>\n",
       "    .dataframe tbody tr th:only-of-type {\n",
       "        vertical-align: middle;\n",
       "    }\n",
       "\n",
       "    .dataframe tbody tr th {\n",
       "        vertical-align: top;\n",
       "    }\n",
       "\n",
       "    .dataframe thead tr th {\n",
       "        text-align: left;\n",
       "    }\n",
       "\n",
       "    .dataframe thead tr:last-of-type th {\n",
       "        text-align: right;\n",
       "    }\n",
       "</style>\n",
       "<table border=\"1\" class=\"dataframe\">\n",
       "  <thead>\n",
       "    <tr>\n",
       "      <th></th>\n",
       "      <th>mean</th>\n",
       "      <th>count</th>\n",
       "      <th>ratio, %</th>\n",
       "    </tr>\n",
       "    <tr>\n",
       "      <th></th>\n",
       "      <th>fixed acidity</th>\n",
       "      <th>fixed acidity</th>\n",
       "      <th></th>\n",
       "    </tr>\n",
       "    <tr>\n",
       "      <th>quality</th>\n",
       "      <th></th>\n",
       "      <th></th>\n",
       "      <th></th>\n",
       "    </tr>\n",
       "  </thead>\n",
       "  <tbody>\n",
       "    <tr>\n",
       "      <th>4</th>\n",
       "      <td>7.275926</td>\n",
       "      <td>108</td>\n",
       "      <td>3.34</td>\n",
       "    </tr>\n",
       "    <tr>\n",
       "      <th>5</th>\n",
       "      <td>7.339757</td>\n",
       "      <td>1069</td>\n",
       "      <td>33.09</td>\n",
       "    </tr>\n",
       "    <tr>\n",
       "      <th>6</th>\n",
       "      <td>7.161142</td>\n",
       "      <td>1418</td>\n",
       "      <td>43.89</td>\n",
       "    </tr>\n",
       "    <tr>\n",
       "      <th>7</th>\n",
       "      <td>7.127180</td>\n",
       "      <td>539</td>\n",
       "      <td>16.68</td>\n",
       "    </tr>\n",
       "    <tr>\n",
       "      <th>8</th>\n",
       "      <td>6.740206</td>\n",
       "      <td>97</td>\n",
       "      <td>3.00</td>\n",
       "    </tr>\n",
       "  </tbody>\n",
       "</table>\n",
       "</div>"
      ],
      "text/plain": [
       "                 mean         count ratio, %\n",
       "        fixed acidity fixed acidity         \n",
       "quality                                     \n",
       "4            7.275926           108     3.34\n",
       "5            7.339757          1069    33.09\n",
       "6            7.161142          1418    43.89\n",
       "7            7.127180           539    16.68\n",
       "8            6.740206            97     3.00"
      ]
     },
     "metadata": {},
     "output_type": "display_data"
    },
    {
     "data": {
      "text/plain": [
       "None"
      ]
     },
     "metadata": {},
     "output_type": "display_data"
    }
   ],
   "source": [
    "display(create_pivot(0), create_plot(0))"
   ]
  },
  {
   "cell_type": "markdown",
   "metadata": {},
   "source": [
    "<br>\n",
    "\n",
    "#### volatile acidity : 휘발성 산도\n",
    "+ 와인에 함유된 아세트산의 양. 너무 높으면 불쾌한 식초 맛이 날 수 있음\n",
    "\n",
    "<br>"
   ]
  },
  {
   "cell_type": "code",
   "execution_count": 19,
   "metadata": {
    "scrolled": false
   },
   "outputs": [
    {
     "data": {
      "image/png": "[encoded data removed]",
      "text/plain": [
       "<Figure size 432x288 with 1 Axes>"
      ]
     },
     "metadata": {},
     "output_type": "display_data"
    },
    {
     "data": {
      "text/html": [
       "<div>\n",
       "<style scoped>\n",
       "    .dataframe tbody tr th:only-of-type {\n",
       "        vertical-align: middle;\n",
       "    }\n",
       "\n",
       "    .dataframe tbody tr th {\n",
       "        vertical-align: top;\n",
       "    }\n",
       "\n",
       "    .dataframe thead tr th {\n",
       "        text-align: left;\n",
       "    }\n",
       "\n",
       "    .dataframe thead tr:last-of-type th {\n",
       "        text-align: right;\n",
       "    }\n",
       "</style>\n",
       "<table border=\"1\" class=\"dataframe\">\n",
       "  <thead>\n",
       "    <tr>\n",
       "      <th></th>\n",
       "      <th>mean</th>\n",
       "      <th>count</th>\n",
       "      <th>ratio, %</th>\n",
       "    </tr>\n",
       "    <tr>\n",
       "      <th></th>\n",
       "      <th>volatile acidity</th>\n",
       "      <th>volatile acidity</th>\n",
       "      <th></th>\n",
       "    </tr>\n",
       "    <tr>\n",
       "      <th>quality</th>\n",
       "      <th></th>\n",
       "      <th></th>\n",
       "      <th></th>\n",
       "    </tr>\n",
       "  </thead>\n",
       "  <tbody>\n",
       "    <tr>\n",
       "      <th>4</th>\n",
       "      <td>0.469028</td>\n",
       "      <td>108</td>\n",
       "      <td>3.34</td>\n",
       "    </tr>\n",
       "    <tr>\n",
       "      <th>5</th>\n",
       "      <td>0.383634</td>\n",
       "      <td>1069</td>\n",
       "      <td>33.09</td>\n",
       "    </tr>\n",
       "    <tr>\n",
       "      <th>6</th>\n",
       "      <td>0.309870</td>\n",
       "      <td>1418</td>\n",
       "      <td>43.89</td>\n",
       "    </tr>\n",
       "    <tr>\n",
       "      <th>7</th>\n",
       "      <td>0.292653</td>\n",
       "      <td>539</td>\n",
       "      <td>16.68</td>\n",
       "    </tr>\n",
       "    <tr>\n",
       "      <th>8</th>\n",
       "      <td>0.288196</td>\n",
       "      <td>97</td>\n",
       "      <td>3.00</td>\n",
       "    </tr>\n",
       "  </tbody>\n",
       "</table>\n",
       "</div>"
      ],
      "text/plain": [
       "                    mean            count ratio, %\n",
       "        volatile acidity volatile acidity         \n",
       "quality                                           \n",
       "4               0.469028              108     3.34\n",
       "5               0.383634             1069    33.09\n",
       "6               0.309870             1418    43.89\n",
       "7               0.292653              539    16.68\n",
       "8               0.288196               97     3.00"
      ]
     },
     "metadata": {},
     "output_type": "display_data"
    },
    {
     "data": {
      "text/plain": [
       "None"
      ]
     },
     "metadata": {},
     "output_type": "display_data"
    }
   ],
   "source": [
    "display(create_pivot(1), create_plot(1))"
   ]
  },
  {
   "cell_type": "markdown",
   "metadata": {},
   "source": [
    "<br>\n",
    "\n",
    "#### citric acid : 구연산\n",
    "+ 소량으로 발견되며, 와인에 풍미를 더할 수 있음\n",
    "\n",
    "<br>"
   ]
  },
  {
   "cell_type": "code",
   "execution_count": 20,
   "metadata": {
    "scrolled": false
   },
   "outputs": [
    {
     "data": {
      "image/png": "[encoded data removed]",
      "text/plain": [
       "<Figure size 432x288 with 1 Axes>"
      ]
     },
     "metadata": {},
     "output_type": "display_data"
    },
    {
     "data": {
      "text/html": [
       "<div>\n",
       "<style scoped>\n",
       "    .dataframe tbody tr th:only-of-type {\n",
       "        vertical-align: middle;\n",
       "    }\n",
       "\n",
       "    .dataframe tbody tr th {\n",
       "        vertical-align: top;\n",
       "    }\n",
       "\n",
       "    .dataframe thead tr th {\n",
       "        text-align: left;\n",
       "    }\n",
       "\n",
       "    .dataframe thead tr:last-of-type th {\n",
       "        text-align: right;\n",
       "    }\n",
       "</style>\n",
       "<table border=\"1\" class=\"dataframe\">\n",
       "  <thead>\n",
       "    <tr>\n",
       "      <th></th>\n",
       "      <th>mean</th>\n",
       "      <th>count</th>\n",
       "      <th>ratio, %</th>\n",
       "    </tr>\n",
       "    <tr>\n",
       "      <th></th>\n",
       "      <th>citric acid</th>\n",
       "      <th>citric acid</th>\n",
       "      <th></th>\n",
       "    </tr>\n",
       "    <tr>\n",
       "      <th>quality</th>\n",
       "      <th></th>\n",
       "      <th></th>\n",
       "      <th></th>\n",
       "    </tr>\n",
       "  </thead>\n",
       "  <tbody>\n",
       "    <tr>\n",
       "      <th>4</th>\n",
       "      <td>0.260926</td>\n",
       "      <td>108</td>\n",
       "      <td>3.34</td>\n",
       "    </tr>\n",
       "    <tr>\n",
       "      <th>5</th>\n",
       "      <td>0.313143</td>\n",
       "      <td>1069</td>\n",
       "      <td>33.09</td>\n",
       "    </tr>\n",
       "    <tr>\n",
       "      <th>6</th>\n",
       "      <td>0.323886</td>\n",
       "      <td>1418</td>\n",
       "      <td>43.89</td>\n",
       "    </tr>\n",
       "    <tr>\n",
       "      <th>7</th>\n",
       "      <td>0.331633</td>\n",
       "      <td>539</td>\n",
       "      <td>16.68</td>\n",
       "    </tr>\n",
       "    <tr>\n",
       "      <th>8</th>\n",
       "      <td>0.323093</td>\n",
       "      <td>97</td>\n",
       "      <td>3.00</td>\n",
       "    </tr>\n",
       "  </tbody>\n",
       "</table>\n",
       "</div>"
      ],
      "text/plain": [
       "               mean       count ratio, %\n",
       "        citric acid citric acid         \n",
       "quality                                 \n",
       "4          0.260926         108     3.34\n",
       "5          0.313143        1069    33.09\n",
       "6          0.323886        1418    43.89\n",
       "7          0.331633         539    16.68\n",
       "8          0.323093          97     3.00"
      ]
     },
     "metadata": {},
     "output_type": "display_data"
    },
    {
     "data": {
      "text/plain": [
       "None"
      ]
     },
     "metadata": {},
     "output_type": "display_data"
    }
   ],
   "source": [
    "display(create_pivot(2), create_plot(2))"
   ]
  },
  {
   "cell_type": "markdown",
   "metadata": {},
   "source": [
    "<br>\n",
    "\n",
    "#### residual sugar : 잔여 당분\n",
    "+ 발효가 멈춘 후 남은 설탕의 양으로 1g/L 미만의 와인은 드물며 45g/L 이상의 와인은 단맛으로 간주함\n",
    "\n",
    "<br>"
   ]
  },
  {
   "cell_type": "code",
   "execution_count": 21,
   "metadata": {
    "scrolled": false
   },
   "outputs": [
    {
     "data": {
      "image/png": "[encoded data removed]",
      "text/plain": [
       "<Figure size 432x288 with 1 Axes>"
      ]
     },
     "metadata": {},
     "output_type": "display_data"
    },
    {
     "data": {
      "text/html": [
       "<div>\n",
       "<style scoped>\n",
       "    .dataframe tbody tr th:only-of-type {\n",
       "        vertical-align: middle;\n",
       "    }\n",
       "\n",
       "    .dataframe tbody tr th {\n",
       "        vertical-align: top;\n",
       "    }\n",
       "\n",
       "    .dataframe thead tr th {\n",
       "        text-align: left;\n",
       "    }\n",
       "\n",
       "    .dataframe thead tr:last-of-type th {\n",
       "        text-align: right;\n",
       "    }\n",
       "</style>\n",
       "<table border=\"1\" class=\"dataframe\">\n",
       "  <thead>\n",
       "    <tr>\n",
       "      <th></th>\n",
       "      <th>mean</th>\n",
       "      <th>count</th>\n",
       "      <th>ratio, %</th>\n",
       "    </tr>\n",
       "    <tr>\n",
       "      <th></th>\n",
       "      <th>residual sugar</th>\n",
       "      <th>residual sugar</th>\n",
       "      <th></th>\n",
       "    </tr>\n",
       "    <tr>\n",
       "      <th>quality</th>\n",
       "      <th></th>\n",
       "      <th></th>\n",
       "      <th></th>\n",
       "    </tr>\n",
       "  </thead>\n",
       "  <tbody>\n",
       "    <tr>\n",
       "      <th>4</th>\n",
       "      <td>3.962037</td>\n",
       "      <td>108</td>\n",
       "      <td>3.34</td>\n",
       "    </tr>\n",
       "    <tr>\n",
       "      <th>5</th>\n",
       "      <td>5.889476</td>\n",
       "      <td>1069</td>\n",
       "      <td>33.09</td>\n",
       "    </tr>\n",
       "    <tr>\n",
       "      <th>6</th>\n",
       "      <td>5.548942</td>\n",
       "      <td>1418</td>\n",
       "      <td>43.89</td>\n",
       "    </tr>\n",
       "    <tr>\n",
       "      <th>7</th>\n",
       "      <td>4.679221</td>\n",
       "      <td>539</td>\n",
       "      <td>16.68</td>\n",
       "    </tr>\n",
       "    <tr>\n",
       "      <th>8</th>\n",
       "      <td>5.260309</td>\n",
       "      <td>97</td>\n",
       "      <td>3.00</td>\n",
       "    </tr>\n",
       "  </tbody>\n",
       "</table>\n",
       "</div>"
      ],
      "text/plain": [
       "                  mean          count ratio, %\n",
       "        residual sugar residual sugar         \n",
       "quality                                       \n",
       "4             3.962037            108     3.34\n",
       "5             5.889476           1069    33.09\n",
       "6             5.548942           1418    43.89\n",
       "7             4.679221            539    16.68\n",
       "8             5.260309             97     3.00"
      ]
     },
     "metadata": {},
     "output_type": "display_data"
    },
    {
     "data": {
      "text/plain": [
       "None"
      ]
     },
     "metadata": {},
     "output_type": "display_data"
    }
   ],
   "source": [
    "display(create_pivot(3), create_plot(3))"
   ]
  },
  {
   "cell_type": "markdown",
   "metadata": {},
   "source": [
    "<br>\n",
    "\n",
    "#### chlorides: 염소화물\n",
    "+ 와인의 염분량\n",
    "\n",
    "<br>"
   ]
  },
  {
   "cell_type": "code",
   "execution_count": 22,
   "metadata": {
    "scrolled": false
   },
   "outputs": [
    {
     "data": {
      "image/png": "[encoded data removed]",
      "text/plain": [
       "<Figure size 432x288 with 1 Axes>"
      ]
     },
     "metadata": {},
     "output_type": "display_data"
    },
    {
     "data": {
      "text/html": [
       "<div>\n",
       "<style scoped>\n",
       "    .dataframe tbody tr th:only-of-type {\n",
       "        vertical-align: middle;\n",
       "    }\n",
       "\n",
       "    .dataframe tbody tr th {\n",
       "        vertical-align: top;\n",
       "    }\n",
       "\n",
       "    .dataframe thead tr th {\n",
       "        text-align: left;\n",
       "    }\n",
       "\n",
       "    .dataframe thead tr:last-of-type th {\n",
       "        text-align: right;\n",
       "    }\n",
       "</style>\n",
       "<table border=\"1\" class=\"dataframe\">\n",
       "  <thead>\n",
       "    <tr>\n",
       "      <th></th>\n",
       "      <th>mean</th>\n",
       "      <th>count</th>\n",
       "      <th>ratio, %</th>\n",
       "    </tr>\n",
       "    <tr>\n",
       "      <th></th>\n",
       "      <th>chlorides</th>\n",
       "      <th>chlorides</th>\n",
       "      <th></th>\n",
       "    </tr>\n",
       "    <tr>\n",
       "      <th>quality</th>\n",
       "      <th></th>\n",
       "      <th></th>\n",
       "      <th></th>\n",
       "    </tr>\n",
       "  </thead>\n",
       "  <tbody>\n",
       "    <tr>\n",
       "      <th>4</th>\n",
       "      <td>0.056972</td>\n",
       "      <td>108</td>\n",
       "      <td>3.34</td>\n",
       "    </tr>\n",
       "    <tr>\n",
       "      <th>5</th>\n",
       "      <td>0.064714</td>\n",
       "      <td>1069</td>\n",
       "      <td>33.09</td>\n",
       "    </tr>\n",
       "    <tr>\n",
       "      <th>6</th>\n",
       "      <td>0.054214</td>\n",
       "      <td>1418</td>\n",
       "      <td>43.89</td>\n",
       "    </tr>\n",
       "    <tr>\n",
       "      <th>7</th>\n",
       "      <td>0.045111</td>\n",
       "      <td>539</td>\n",
       "      <td>16.68</td>\n",
       "    </tr>\n",
       "    <tr>\n",
       "      <th>8</th>\n",
       "      <td>0.041825</td>\n",
       "      <td>97</td>\n",
       "      <td>3.00</td>\n",
       "    </tr>\n",
       "  </tbody>\n",
       "</table>\n",
       "</div>"
      ],
      "text/plain": [
       "             mean     count ratio, %\n",
       "        chlorides chlorides         \n",
       "quality                             \n",
       "4        0.056972       108     3.34\n",
       "5        0.064714      1069    33.09\n",
       "6        0.054214      1418    43.89\n",
       "7        0.045111       539    16.68\n",
       "8        0.041825        97     3.00"
      ]
     },
     "metadata": {},
     "output_type": "display_data"
    },
    {
     "data": {
      "text/plain": [
       "None"
      ]
     },
     "metadata": {},
     "output_type": "display_data"
    }
   ],
   "source": [
    "display(create_pivot(4), create_plot(4))"
   ]
  },
  {
   "cell_type": "markdown",
   "metadata": {},
   "source": [
    "<br>\n",
    "\n",
    "#### free sulfur dioxide: 유리 이산화황\n",
    "+ 미생물의 성장과 와인의 산화를 방지함\n",
    "\n",
    "<br>"
   ]
  },
  {
   "cell_type": "code",
   "execution_count": 23,
   "metadata": {
    "scrolled": false
   },
   "outputs": [
    {
     "data": {
      "image/png": "[encoded data removed]",
      "text/plain": [
       "<Figure size 432x288 with 1 Axes>"
      ]
     },
     "metadata": {},
     "output_type": "display_data"
    },
    {
     "data": {
      "text/html": [
       "<div>\n",
       "<style scoped>\n",
       "    .dataframe tbody tr th:only-of-type {\n",
       "        vertical-align: middle;\n",
       "    }\n",
       "\n",
       "    .dataframe tbody tr th {\n",
       "        vertical-align: top;\n",
       "    }\n",
       "\n",
       "    .dataframe thead tr th {\n",
       "        text-align: left;\n",
       "    }\n",
       "\n",
       "    .dataframe thead tr:last-of-type th {\n",
       "        text-align: right;\n",
       "    }\n",
       "</style>\n",
       "<table border=\"1\" class=\"dataframe\">\n",
       "  <thead>\n",
       "    <tr>\n",
       "      <th></th>\n",
       "      <th>mean</th>\n",
       "      <th>count</th>\n",
       "      <th>ratio, %</th>\n",
       "    </tr>\n",
       "    <tr>\n",
       "      <th></th>\n",
       "      <th>free sulfur dioxide</th>\n",
       "      <th>free sulfur dioxide</th>\n",
       "      <th></th>\n",
       "    </tr>\n",
       "    <tr>\n",
       "      <th>quality</th>\n",
       "      <th></th>\n",
       "      <th></th>\n",
       "      <th></th>\n",
       "    </tr>\n",
       "  </thead>\n",
       "  <tbody>\n",
       "    <tr>\n",
       "      <th>4</th>\n",
       "      <td>20.796296</td>\n",
       "      <td>108</td>\n",
       "      <td>3.34</td>\n",
       "    </tr>\n",
       "    <tr>\n",
       "      <th>5</th>\n",
       "      <td>30.526193</td>\n",
       "      <td>1069</td>\n",
       "      <td>33.09</td>\n",
       "    </tr>\n",
       "    <tr>\n",
       "      <th>6</th>\n",
       "      <td>30.960860</td>\n",
       "      <td>1418</td>\n",
       "      <td>43.89</td>\n",
       "    </tr>\n",
       "    <tr>\n",
       "      <th>7</th>\n",
       "      <td>30.725417</td>\n",
       "      <td>539</td>\n",
       "      <td>16.68</td>\n",
       "    </tr>\n",
       "    <tr>\n",
       "      <th>8</th>\n",
       "      <td>35.814433</td>\n",
       "      <td>97</td>\n",
       "      <td>3.00</td>\n",
       "    </tr>\n",
       "  </tbody>\n",
       "</table>\n",
       "</div>"
      ],
      "text/plain": [
       "                       mean               count ratio, %\n",
       "        free sulfur dioxide free sulfur dioxide         \n",
       "quality                                                 \n",
       "4                 20.796296                 108     3.34\n",
       "5                 30.526193                1069    33.09\n",
       "6                 30.960860                1418    43.89\n",
       "7                 30.725417                 539    16.68\n",
       "8                 35.814433                  97     3.00"
      ]
     },
     "metadata": {},
     "output_type": "display_data"
    },
    {
     "data": {
      "text/plain": [
       "None"
      ]
     },
     "metadata": {},
     "output_type": "display_data"
    }
   ],
   "source": [
    "display(create_pivot(5), create_plot(5))"
   ]
  },
  {
   "cell_type": "markdown",
   "metadata": {},
   "source": [
    "<br>\n",
    "\n",
    "#### total sulfur dioxide : 총 이산화황\n",
    "+ 저농도에서는 대부분 맛이 나지 않으나 50ppm 이상의 농도에서 맛에서 뚜렷하게 나타남\n",
    "\n",
    "<br>"
   ]
  },
  {
   "cell_type": "code",
   "execution_count": 24,
   "metadata": {
    "scrolled": false
   },
   "outputs": [
    {
     "data": {
      "image/png": "[encoded data removed]",
      "text/plain": [
       "<Figure size 432x288 with 1 Axes>"
      ]
     },
     "metadata": {},
     "output_type": "display_data"
    },
    {
     "data": {
      "text/html": [
       "<div>\n",
       "<style scoped>\n",
       "    .dataframe tbody tr th:only-of-type {\n",
       "        vertical-align: middle;\n",
       "    }\n",
       "\n",
       "    .dataframe tbody tr th {\n",
       "        vertical-align: top;\n",
       "    }\n",
       "\n",
       "    .dataframe thead tr th {\n",
       "        text-align: left;\n",
       "    }\n",
       "\n",
       "    .dataframe thead tr:last-of-type th {\n",
       "        text-align: right;\n",
       "    }\n",
       "</style>\n",
       "<table border=\"1\" class=\"dataframe\">\n",
       "  <thead>\n",
       "    <tr>\n",
       "      <th></th>\n",
       "      <th>mean</th>\n",
       "      <th>count</th>\n",
       "      <th>ratio, %</th>\n",
       "    </tr>\n",
       "    <tr>\n",
       "      <th></th>\n",
       "      <th>total sulfur dioxide</th>\n",
       "      <th>total sulfur dioxide</th>\n",
       "      <th></th>\n",
       "    </tr>\n",
       "    <tr>\n",
       "      <th>quality</th>\n",
       "      <th></th>\n",
       "      <th></th>\n",
       "      <th></th>\n",
       "    </tr>\n",
       "  </thead>\n",
       "  <tbody>\n",
       "    <tr>\n",
       "      <th>4</th>\n",
       "      <td>104.356481</td>\n",
       "      <td>108</td>\n",
       "      <td>3.34</td>\n",
       "    </tr>\n",
       "    <tr>\n",
       "      <th>5</th>\n",
       "      <td>121.696445</td>\n",
       "      <td>1069</td>\n",
       "      <td>33.09</td>\n",
       "    </tr>\n",
       "    <tr>\n",
       "      <th>6</th>\n",
       "      <td>115.722849</td>\n",
       "      <td>1418</td>\n",
       "      <td>43.89</td>\n",
       "    </tr>\n",
       "    <tr>\n",
       "      <th>7</th>\n",
       "      <td>108.591837</td>\n",
       "      <td>539</td>\n",
       "      <td>16.68</td>\n",
       "    </tr>\n",
       "    <tr>\n",
       "      <th>8</th>\n",
       "      <td>119.948454</td>\n",
       "      <td>97</td>\n",
       "      <td>3.00</td>\n",
       "    </tr>\n",
       "  </tbody>\n",
       "</table>\n",
       "</div>"
      ],
      "text/plain": [
       "                        mean                count ratio, %\n",
       "        total sulfur dioxide total sulfur dioxide         \n",
       "quality                                                   \n",
       "4                 104.356481                  108     3.34\n",
       "5                 121.696445                 1069    33.09\n",
       "6                 115.722849                 1418    43.89\n",
       "7                 108.591837                  539    16.68\n",
       "8                 119.948454                   97     3.00"
      ]
     },
     "metadata": {},
     "output_type": "display_data"
    },
    {
     "data": {
      "text/plain": [
       "None"
      ]
     },
     "metadata": {},
     "output_type": "display_data"
    }
   ],
   "source": [
    "display(create_pivot(6), create_plot(6))"
   ]
  },
  {
   "cell_type": "markdown",
   "metadata": {},
   "source": [
    "<br>\n",
    "\n",
    "#### density : 밀도\n",
    "+ 알코올 및 당 함량에 따라 변함\n",
    "\n",
    "<br>"
   ]
  },
  {
   "cell_type": "code",
   "execution_count": 25,
   "metadata": {
    "scrolled": false
   },
   "outputs": [
    {
     "data": {
      "image/png": "[encoded data removed]",
      "text/plain": [
       "<Figure size 432x288 with 1 Axes>"
      ]
     },
     "metadata": {},
     "output_type": "display_data"
    },
    {
     "data": {
      "text/html": [
       "<div>\n",
       "<style scoped>\n",
       "    .dataframe tbody tr th:only-of-type {\n",
       "        vertical-align: middle;\n",
       "    }\n",
       "\n",
       "    .dataframe tbody tr th {\n",
       "        vertical-align: top;\n",
       "    }\n",
       "\n",
       "    .dataframe thead tr th {\n",
       "        text-align: left;\n",
       "    }\n",
       "\n",
       "    .dataframe thead tr:last-of-type th {\n",
       "        text-align: right;\n",
       "    }\n",
       "</style>\n",
       "<table border=\"1\" class=\"dataframe\">\n",
       "  <thead>\n",
       "    <tr>\n",
       "      <th></th>\n",
       "      <th>mean</th>\n",
       "      <th>count</th>\n",
       "      <th>ratio, %</th>\n",
       "    </tr>\n",
       "    <tr>\n",
       "      <th></th>\n",
       "      <th>density</th>\n",
       "      <th>density</th>\n",
       "      <th></th>\n",
       "    </tr>\n",
       "    <tr>\n",
       "      <th>quality</th>\n",
       "      <th></th>\n",
       "      <th></th>\n",
       "      <th></th>\n",
       "    </tr>\n",
       "  </thead>\n",
       "  <tbody>\n",
       "    <tr>\n",
       "      <th>4</th>\n",
       "      <td>0.994770</td>\n",
       "      <td>108</td>\n",
       "      <td>3.34</td>\n",
       "    </tr>\n",
       "    <tr>\n",
       "      <th>5</th>\n",
       "      <td>0.995868</td>\n",
       "      <td>1069</td>\n",
       "      <td>33.09</td>\n",
       "    </tr>\n",
       "    <tr>\n",
       "      <th>6</th>\n",
       "      <td>0.994518</td>\n",
       "      <td>1418</td>\n",
       "      <td>43.89</td>\n",
       "    </tr>\n",
       "    <tr>\n",
       "      <th>7</th>\n",
       "      <td>0.993034</td>\n",
       "      <td>539</td>\n",
       "      <td>16.68</td>\n",
       "    </tr>\n",
       "    <tr>\n",
       "      <th>8</th>\n",
       "      <td>0.992576</td>\n",
       "      <td>97</td>\n",
       "      <td>3.00</td>\n",
       "    </tr>\n",
       "  </tbody>\n",
       "</table>\n",
       "</div>"
      ],
      "text/plain": [
       "             mean   count ratio, %\n",
       "          density density         \n",
       "quality                           \n",
       "4        0.994770     108     3.34\n",
       "5        0.995868    1069    33.09\n",
       "6        0.994518    1418    43.89\n",
       "7        0.993034     539    16.68\n",
       "8        0.992576      97     3.00"
      ]
     },
     "metadata": {},
     "output_type": "display_data"
    },
    {
     "data": {
      "text/plain": [
       "None"
      ]
     },
     "metadata": {},
     "output_type": "display_data"
    }
   ],
   "source": [
    "display(create_pivot(7), create_plot(7))"
   ]
  },
  {
   "cell_type": "markdown",
   "metadata": {},
   "source": [
    "<br>\n",
    "\n",
    "#### pH : 산성 또는 염기성 정도\n",
    "+ 0(매우 산성) ~ 14(매우 염기성). 대부분의 와인은 pH 3-4 사이임\n",
    "\n",
    "<br>"
   ]
  },
  {
   "cell_type": "code",
   "execution_count": 26,
   "metadata": {
    "scrolled": false
   },
   "outputs": [
    {
     "data": {
      "image/png": "[encoded data removed]",
      "text/plain": [
       "<Figure size 432x288 with 1 Axes>"
      ]
     },
     "metadata": {},
     "output_type": "display_data"
    },
    {
     "data": {
      "text/html": [
       "<div>\n",
       "<style scoped>\n",
       "    .dataframe tbody tr th:only-of-type {\n",
       "        vertical-align: middle;\n",
       "    }\n",
       "\n",
       "    .dataframe tbody tr th {\n",
       "        vertical-align: top;\n",
       "    }\n",
       "\n",
       "    .dataframe thead tr th {\n",
       "        text-align: left;\n",
       "    }\n",
       "\n",
       "    .dataframe thead tr:last-of-type th {\n",
       "        text-align: right;\n",
       "    }\n",
       "</style>\n",
       "<table border=\"1\" class=\"dataframe\">\n",
       "  <thead>\n",
       "    <tr>\n",
       "      <th></th>\n",
       "      <th>mean</th>\n",
       "      <th>count</th>\n",
       "      <th>ratio, %</th>\n",
       "    </tr>\n",
       "    <tr>\n",
       "      <th></th>\n",
       "      <th>pH</th>\n",
       "      <th>pH</th>\n",
       "      <th></th>\n",
       "    </tr>\n",
       "    <tr>\n",
       "      <th>quality</th>\n",
       "      <th></th>\n",
       "      <th></th>\n",
       "      <th></th>\n",
       "    </tr>\n",
       "  </thead>\n",
       "  <tbody>\n",
       "    <tr>\n",
       "      <th>4</th>\n",
       "      <td>3.232870</td>\n",
       "      <td>108</td>\n",
       "      <td>3.34</td>\n",
       "    </tr>\n",
       "    <tr>\n",
       "      <th>5</th>\n",
       "      <td>3.204995</td>\n",
       "      <td>1069</td>\n",
       "      <td>33.09</td>\n",
       "    </tr>\n",
       "    <tr>\n",
       "      <th>6</th>\n",
       "      <td>3.213801</td>\n",
       "      <td>1418</td>\n",
       "      <td>43.89</td>\n",
       "    </tr>\n",
       "    <tr>\n",
       "      <th>7</th>\n",
       "      <td>3.225733</td>\n",
       "      <td>539</td>\n",
       "      <td>16.68</td>\n",
       "    </tr>\n",
       "    <tr>\n",
       "      <th>8</th>\n",
       "      <td>3.235464</td>\n",
       "      <td>97</td>\n",
       "      <td>3.00</td>\n",
       "    </tr>\n",
       "  </tbody>\n",
       "</table>\n",
       "</div>"
      ],
      "text/plain": [
       "             mean count ratio, %\n",
       "               pH    pH         \n",
       "quality                         \n",
       "4        3.232870   108     3.34\n",
       "5        3.204995  1069    33.09\n",
       "6        3.213801  1418    43.89\n",
       "7        3.225733   539    16.68\n",
       "8        3.235464    97     3.00"
      ]
     },
     "metadata": {},
     "output_type": "display_data"
    },
    {
     "data": {
      "text/plain": [
       "None"
      ]
     },
     "metadata": {},
     "output_type": "display_data"
    }
   ],
   "source": [
    "display(create_pivot(8), create_plot(8))"
   ]
  },
  {
   "cell_type": "markdown",
   "metadata": {},
   "source": [
    "<br>\n",
    "\n",
    "#### sulphates : 황산염\n",
    "+ 이산화황 농도에 기여할 수 있는 와인 첨가제. 항균 및 항산화제로 작용\n",
    "\n",
    "<br>"
   ]
  },
  {
   "cell_type": "code",
   "execution_count": 27,
   "metadata": {
    "scrolled": false
   },
   "outputs": [
    {
     "data": {
      "image/png": "[encoded data removed]",
      "text/plain": [
       "<Figure size 432x288 with 1 Axes>"
      ]
     },
     "metadata": {},
     "output_type": "display_data"
    },
    {
     "data": {
      "text/html": [
       "<div>\n",
       "<style scoped>\n",
       "    .dataframe tbody tr th:only-of-type {\n",
       "        vertical-align: middle;\n",
       "    }\n",
       "\n",
       "    .dataframe tbody tr th {\n",
       "        vertical-align: top;\n",
       "    }\n",
       "\n",
       "    .dataframe thead tr th {\n",
       "        text-align: left;\n",
       "    }\n",
       "\n",
       "    .dataframe thead tr:last-of-type th {\n",
       "        text-align: right;\n",
       "    }\n",
       "</style>\n",
       "<table border=\"1\" class=\"dataframe\">\n",
       "  <thead>\n",
       "    <tr>\n",
       "      <th></th>\n",
       "      <th>mean</th>\n",
       "      <th>count</th>\n",
       "      <th>ratio, %</th>\n",
       "    </tr>\n",
       "    <tr>\n",
       "      <th></th>\n",
       "      <th>sulphates</th>\n",
       "      <th>sulphates</th>\n",
       "      <th></th>\n",
       "    </tr>\n",
       "    <tr>\n",
       "      <th>quality</th>\n",
       "      <th></th>\n",
       "      <th></th>\n",
       "      <th></th>\n",
       "    </tr>\n",
       "  </thead>\n",
       "  <tbody>\n",
       "    <tr>\n",
       "      <th>4</th>\n",
       "      <td>0.505833</td>\n",
       "      <td>108</td>\n",
       "      <td>3.34</td>\n",
       "    </tr>\n",
       "    <tr>\n",
       "      <th>5</th>\n",
       "      <td>0.529897</td>\n",
       "      <td>1069</td>\n",
       "      <td>33.09</td>\n",
       "    </tr>\n",
       "    <tr>\n",
       "      <th>6</th>\n",
       "      <td>0.531065</td>\n",
       "      <td>1418</td>\n",
       "      <td>43.89</td>\n",
       "    </tr>\n",
       "    <tr>\n",
       "      <th>7</th>\n",
       "      <td>0.542801</td>\n",
       "      <td>539</td>\n",
       "      <td>16.68</td>\n",
       "    </tr>\n",
       "    <tr>\n",
       "      <th>8</th>\n",
       "      <td>0.519794</td>\n",
       "      <td>97</td>\n",
       "      <td>3.00</td>\n",
       "    </tr>\n",
       "  </tbody>\n",
       "</table>\n",
       "</div>"
      ],
      "text/plain": [
       "             mean     count ratio, %\n",
       "        sulphates sulphates         \n",
       "quality                             \n",
       "4        0.505833       108     3.34\n",
       "5        0.529897      1069    33.09\n",
       "6        0.531065      1418    43.89\n",
       "7        0.542801       539    16.68\n",
       "8        0.519794        97     3.00"
      ]
     },
     "metadata": {},
     "output_type": "display_data"
    },
    {
     "data": {
      "text/plain": [
       "None"
      ]
     },
     "metadata": {},
     "output_type": "display_data"
    }
   ],
   "source": [
    "display(create_pivot(9), create_plot(9))"
   ]
  },
  {
   "cell_type": "markdown",
   "metadata": {},
   "source": [
    "<br>\n",
    "\n",
    "#### alcohol : 와인의 알코올 함량. 백분율\n",
    "\n",
    "<br>"
   ]
  },
  {
   "cell_type": "code",
   "execution_count": 28,
   "metadata": {
    "scrolled": false
   },
   "outputs": [
    {
     "data": {
      "image/png": "[encoded data removed]",
      "text/plain": [
       "<Figure size 432x288 with 1 Axes>"
      ]
     },
     "metadata": {},
     "output_type": "display_data"
    },
    {
     "data": {
      "text/html": [
       "<div>\n",
       "<style scoped>\n",
       "    .dataframe tbody tr th:only-of-type {\n",
       "        vertical-align: middle;\n",
       "    }\n",
       "\n",
       "    .dataframe tbody tr th {\n",
       "        vertical-align: top;\n",
       "    }\n",
       "\n",
       "    .dataframe thead tr th {\n",
       "        text-align: left;\n",
       "    }\n",
       "\n",
       "    .dataframe thead tr:last-of-type th {\n",
       "        text-align: right;\n",
       "    }\n",
       "</style>\n",
       "<table border=\"1\" class=\"dataframe\">\n",
       "  <thead>\n",
       "    <tr>\n",
       "      <th></th>\n",
       "      <th>mean</th>\n",
       "      <th>count</th>\n",
       "      <th>ratio, %</th>\n",
       "    </tr>\n",
       "    <tr>\n",
       "      <th></th>\n",
       "      <th>alcohol</th>\n",
       "      <th>alcohol</th>\n",
       "      <th></th>\n",
       "    </tr>\n",
       "    <tr>\n",
       "      <th>quality</th>\n",
       "      <th></th>\n",
       "      <th></th>\n",
       "      <th></th>\n",
       "    </tr>\n",
       "  </thead>\n",
       "  <tbody>\n",
       "    <tr>\n",
       "      <th>4</th>\n",
       "      <td>10.180556</td>\n",
       "      <td>108</td>\n",
       "      <td>3.34</td>\n",
       "    </tr>\n",
       "    <tr>\n",
       "      <th>5</th>\n",
       "      <td>9.846333</td>\n",
       "      <td>1069</td>\n",
       "      <td>33.09</td>\n",
       "    </tr>\n",
       "    <tr>\n",
       "      <th>6</th>\n",
       "      <td>10.578573</td>\n",
       "      <td>1418</td>\n",
       "      <td>43.89</td>\n",
       "    </tr>\n",
       "    <tr>\n",
       "      <th>7</th>\n",
       "      <td>11.445659</td>\n",
       "      <td>539</td>\n",
       "      <td>16.68</td>\n",
       "    </tr>\n",
       "    <tr>\n",
       "      <th>8</th>\n",
       "      <td>11.559794</td>\n",
       "      <td>97</td>\n",
       "      <td>3.00</td>\n",
       "    </tr>\n",
       "  </tbody>\n",
       "</table>\n",
       "</div>"
      ],
      "text/plain": [
       "              mean   count ratio, %\n",
       "           alcohol alcohol         \n",
       "quality                            \n",
       "4        10.180556     108     3.34\n",
       "5         9.846333    1069    33.09\n",
       "6        10.578573    1418    43.89\n",
       "7        11.445659     539    16.68\n",
       "8        11.559794      97     3.00"
      ]
     },
     "metadata": {},
     "output_type": "display_data"
    },
    {
     "data": {
      "text/plain": [
       "None"
      ]
     },
     "metadata": {},
     "output_type": "display_data"
    }
   ],
   "source": [
    "display(create_pivot(10), create_plot(10))"
   ]
  },
  {
   "cell_type": "markdown",
   "metadata": {},
   "source": [
    "<br>\n",
    "\n",
    "#### type : 와인에 사용된 포도의 종류\n",
    "+ Red(적포도주), White(백포도주)로 나뉨\n",
    "\n",
    "<br>"
   ]
  },
  {
   "cell_type": "code",
   "execution_count": 29,
   "metadata": {
    "scrolled": true
   },
   "outputs": [
    {
     "data": {
      "image/png": "[encoded data removed]",
      "text/plain": [
       "<Figure size 432x288 with 1 Axes>"
      ]
     },
     "metadata": {},
     "output_type": "display_data"
    }
   ],
   "source": [
    "sns.countplot(data = train, x = 'type', hue = 'quality', palette = 'Set1')\n",
    "plt.show()"
   ]
  },
  {
   "cell_type": "code",
   "execution_count": 30,
   "metadata": {},
   "outputs": [
    {
     "data": {
      "image/png": "[encoded data removed]",
      "text/plain": [
       "<Figure size 504x360 with 1 Axes>"
      ]
     },
     "metadata": {},
     "output_type": "display_data"
    }
   ],
   "source": [
    "plt.figure(figsize=(7, 5))\n",
    "\n",
    "sns.barplot(data = train, x = 'type', y = 'alcohol', hue = 'quality', palette = 'Set1')\n",
    "\n",
    "plt.show()"
   ]
  },
  {
   "cell_type": "markdown",
   "metadata": {},
   "source": [
    "<br>\n",
    "\n",
    "#### 상관관계 분석\n",
    "\n",
    "<br>"
   ]
  },
  {
   "cell_type": "code",
   "execution_count": 31,
   "metadata": {
    "scrolled": false
   },
   "outputs": [
    {
     "data": {
      "image/png": "[encoded data removed]",
      "text/plain": [
       "<Figure size 720x576 with 2 Axes>"
      ]
     },
     "metadata": {},
     "output_type": "display_data"
    }
   ],
   "source": [
    "corr = train.corr()\n",
    "\n",
    "plt.figure(figsize = (10, 8))\n",
    "\n",
    "mask = np.zeros_like(corr, dtype = np.bool)\n",
    "mask[np.triu_indices_from(mask)] = True\n",
    "\n",
    "heat_map = sns.heatmap(corr,\n",
    "                       annot = True,\n",
    "                       cmap = 'RdYlGn',\n",
    "                       mask = mask,\n",
    "                       linewidths = 0.01,\n",
    "                       cbar_kws = {'shrink' : .5})"
   ]
  },
  {
   "cell_type": "markdown",
   "metadata": {},
   "source": [
    "<br>\n",
    "\n",
    "**파생변수 생성 아이디어**\n",
    "\n",
    "1. quality와 상관관계가 높은 변수들 확인\n",
    "    + 그 변수의 분포를 확인 후 변수 내의 클래스 분포가 유의미하다면 해당 변수의 클래스별 통계량 변수 생성\n",
    "    + 그 변수와 상관관계가 높은 다른 독립변수와의 곱셈 변수 생성\n",
    "    + alcohol\n",
    "        * quality와 0.45 양의 상관관계\n",
    "        * type별, 클래스별 alcohol의 차이 확인\n",
    "        \n",
    "   \n",
    "    \n",
    "    \n",
    "2. quality와 상관관계는 낮지만 서로 상관관계가 높은 독립변수들 확인\n",
    "    + 파생변수 생성 방법은 위와 동일함\n",
    "    + fixed acidity\n",
    "        * 종속변수와 상관관계가 거의 없음\n",
    "        * 양의 상관관계: density, citric acid, chlorides, sulphates\n",
    "\n",
    "\n",
    "\n",
    "3. 아래의 기본 변수 이용 예측을 보면 6이 제일 많음에도 6의 precision이 낮은 편임. 6의 특징을 이용한 변수를 생성한다면 효과가 있을 것으로 판단됨\n",
    "\n",
    "\n",
    "<br>"
   ]
  },
  {
   "cell_type": "markdown",
   "metadata": {},
   "source": [
    "<br>\n",
    "\n",
    "## Feature Engineering\n",
    "\n",
    "in progress..\n"
   ]
  },
  {
   "cell_type": "markdown",
   "metadata": {},
   "source": [
    "<br>\n",
    "\n",
    "## 데이터 전처리\n",
    "\n",
    "* type 변수: one-hot encoding으로 더미변수화\n",
    "* numeric 변수: standard scaling으로 centering\n"
   ]
  },
  {
   "cell_type": "code",
   "execution_count": 26,
   "metadata": {},
   "outputs": [
    {
     "data": {
      "text/plain": [
       "(3231, 14)"
      ]
     },
     "metadata": {},
     "output_type": "display_data"
    },
    {
     "data": {
      "text/html": [
       "<div>\n",
       "<style scoped>\n",
       "    .dataframe tbody tr th:only-of-type {\n",
       "        vertical-align: middle;\n",
       "    }\n",
       "\n",
       "    .dataframe tbody tr th {\n",
       "        vertical-align: top;\n",
       "    }\n",
       "\n",
       "    .dataframe thead th {\n",
       "        text-align: right;\n",
       "    }\n",
       "</style>\n",
       "<table border=\"1\" class=\"dataframe\">\n",
       "  <thead>\n",
       "    <tr style=\"text-align: right;\">\n",
       "      <th></th>\n",
       "      <th>fixed acidity</th>\n",
       "      <th>volatile acidity</th>\n",
       "      <th>citric acid</th>\n",
       "      <th>residual sugar</th>\n",
       "      <th>chlorides</th>\n",
       "      <th>free sulfur dioxide</th>\n",
       "      <th>total sulfur dioxide</th>\n",
       "      <th>density</th>\n",
       "      <th>pH</th>\n",
       "      <th>sulphates</th>\n",
       "      <th>alcohol</th>\n",
       "      <th>quality</th>\n",
       "      <th>type_red</th>\n",
       "      <th>type_white</th>\n",
       "    </tr>\n",
       "    <tr>\n",
       "      <th>id</th>\n",
       "      <th></th>\n",
       "      <th></th>\n",
       "      <th></th>\n",
       "      <th></th>\n",
       "      <th></th>\n",
       "      <th></th>\n",
       "      <th></th>\n",
       "      <th></th>\n",
       "      <th></th>\n",
       "      <th></th>\n",
       "      <th></th>\n",
       "      <th></th>\n",
       "      <th></th>\n",
       "      <th></th>\n",
       "    </tr>\n",
       "  </thead>\n",
       "  <tbody>\n",
       "    <tr>\n",
       "      <th>1</th>\n",
       "      <td>8.0</td>\n",
       "      <td>0.18</td>\n",
       "      <td>0.37</td>\n",
       "      <td>1.3</td>\n",
       "      <td>0.04</td>\n",
       "      <td>15.0</td>\n",
       "      <td>96.0</td>\n",
       "      <td>0.9912</td>\n",
       "      <td>3.06</td>\n",
       "      <td>0.61</td>\n",
       "      <td>12.1</td>\n",
       "      <td>6</td>\n",
       "      <td>0</td>\n",
       "      <td>1</td>\n",
       "    </tr>\n",
       "  </tbody>\n",
       "</table>\n",
       "</div>"
      ],
      "text/plain": [
       "    fixed acidity  volatile acidity  citric acid  residual sugar  chlorides  \\\n",
       "id                                                                            \n",
       "1             8.0              0.18         0.37             1.3       0.04   \n",
       "\n",
       "    free sulfur dioxide  total sulfur dioxide  density    pH  sulphates  \\\n",
       "id                                                                        \n",
       "1                  15.0                  96.0   0.9912  3.06       0.61   \n",
       "\n",
       "    alcohol  quality  type_red  type_white  \n",
       "id                                          \n",
       "1      12.1        6         0           1  "
      ]
     },
     "metadata": {},
     "output_type": "display_data"
    },
    {
     "data": {
      "text/plain": [
       "(3231, 13)"
      ]
     },
     "metadata": {},
     "output_type": "display_data"
    },
    {
     "data": {
      "text/html": [
       "<div>\n",
       "<style scoped>\n",
       "    .dataframe tbody tr th:only-of-type {\n",
       "        vertical-align: middle;\n",
       "    }\n",
       "\n",
       "    .dataframe tbody tr th {\n",
       "        vertical-align: top;\n",
       "    }\n",
       "\n",
       "    .dataframe thead th {\n",
       "        text-align: right;\n",
       "    }\n",
       "</style>\n",
       "<table border=\"1\" class=\"dataframe\">\n",
       "  <thead>\n",
       "    <tr style=\"text-align: right;\">\n",
       "      <th></th>\n",
       "      <th>fixed acidity</th>\n",
       "      <th>volatile acidity</th>\n",
       "      <th>citric acid</th>\n",
       "      <th>residual sugar</th>\n",
       "      <th>chlorides</th>\n",
       "      <th>free sulfur dioxide</th>\n",
       "      <th>total sulfur dioxide</th>\n",
       "      <th>density</th>\n",
       "      <th>pH</th>\n",
       "      <th>sulphates</th>\n",
       "      <th>alcohol</th>\n",
       "      <th>type_red</th>\n",
       "      <th>type_white</th>\n",
       "    </tr>\n",
       "    <tr>\n",
       "      <th>id</th>\n",
       "      <th></th>\n",
       "      <th></th>\n",
       "      <th></th>\n",
       "      <th></th>\n",
       "      <th></th>\n",
       "      <th></th>\n",
       "      <th></th>\n",
       "      <th></th>\n",
       "      <th></th>\n",
       "      <th></th>\n",
       "      <th></th>\n",
       "      <th></th>\n",
       "      <th></th>\n",
       "    </tr>\n",
       "  </thead>\n",
       "  <tbody>\n",
       "    <tr>\n",
       "      <th>1</th>\n",
       "      <td>7.3</td>\n",
       "      <td>0.31</td>\n",
       "      <td>0.25</td>\n",
       "      <td>6.65</td>\n",
       "      <td>0.032</td>\n",
       "      <td>30.0</td>\n",
       "      <td>138.0</td>\n",
       "      <td>0.99244</td>\n",
       "      <td>2.9</td>\n",
       "      <td>0.37</td>\n",
       "      <td>11.1</td>\n",
       "      <td>0</td>\n",
       "      <td>1</td>\n",
       "    </tr>\n",
       "  </tbody>\n",
       "</table>\n",
       "</div>"
      ],
      "text/plain": [
       "    fixed acidity  volatile acidity  citric acid  residual sugar  chlorides  \\\n",
       "id                                                                            \n",
       "1             7.3              0.31         0.25            6.65      0.032   \n",
       "\n",
       "    free sulfur dioxide  total sulfur dioxide  density   pH  sulphates  \\\n",
       "id                                                                       \n",
       "1                  30.0                 138.0  0.99244  2.9       0.37   \n",
       "\n",
       "    alcohol  type_red  type_white  \n",
       "id                                 \n",
       "1      11.1         0           1  "
      ]
     },
     "metadata": {},
     "output_type": "display_data"
    }
   ],
   "source": [
    "# one-hot encoding\n",
    "\n",
    "train_df = pd.get_dummies(train)\n",
    "test_df = pd.get_dummies(test)\n",
    "\n",
    "display(train_df.shape, train_df.head(1), test_df.shape, test_df.head(1))"
   ]
  },
  {
   "cell_type": "code",
   "execution_count": 27,
   "metadata": {
    "scrolled": true
   },
   "outputs": [
    {
     "data": {
      "text/html": [
       "<div>\n",
       "<style scoped>\n",
       "    .dataframe tbody tr th:only-of-type {\n",
       "        vertical-align: middle;\n",
       "    }\n",
       "\n",
       "    .dataframe tbody tr th {\n",
       "        vertical-align: top;\n",
       "    }\n",
       "\n",
       "    .dataframe thead th {\n",
       "        text-align: right;\n",
       "    }\n",
       "</style>\n",
       "<table border=\"1\" class=\"dataframe\">\n",
       "  <thead>\n",
       "    <tr style=\"text-align: right;\">\n",
       "      <th></th>\n",
       "      <th>fixed acidity</th>\n",
       "      <th>volatile acidity</th>\n",
       "      <th>citric acid</th>\n",
       "      <th>residual sugar</th>\n",
       "      <th>chlorides</th>\n",
       "      <th>free sulfur dioxide</th>\n",
       "      <th>total sulfur dioxide</th>\n",
       "      <th>density</th>\n",
       "      <th>pH</th>\n",
       "      <th>sulphates</th>\n",
       "      <th>alcohol</th>\n",
       "      <th>quality</th>\n",
       "      <th>type_red</th>\n",
       "      <th>type_white</th>\n",
       "    </tr>\n",
       "    <tr>\n",
       "      <th>id</th>\n",
       "      <th></th>\n",
       "      <th></th>\n",
       "      <th></th>\n",
       "      <th></th>\n",
       "      <th></th>\n",
       "      <th></th>\n",
       "      <th></th>\n",
       "      <th></th>\n",
       "      <th></th>\n",
       "      <th></th>\n",
       "      <th></th>\n",
       "      <th></th>\n",
       "      <th></th>\n",
       "      <th></th>\n",
       "    </tr>\n",
       "  </thead>\n",
       "  <tbody>\n",
       "    <tr>\n",
       "      <th>1</th>\n",
       "      <td>0.613164</td>\n",
       "      <td>-0.973871</td>\n",
       "      <td>0.346320</td>\n",
       "      <td>-0.862826</td>\n",
       "      <td>-0.444893</td>\n",
       "      <td>-0.896417</td>\n",
       "      <td>-0.363344</td>\n",
       "      <td>-1.135570</td>\n",
       "      <td>-0.952533</td>\n",
       "      <td>0.524814</td>\n",
       "      <td>1.342873</td>\n",
       "      <td>6</td>\n",
       "      <td>0</td>\n",
       "      <td>1</td>\n",
       "    </tr>\n",
       "    <tr>\n",
       "      <th>2</th>\n",
       "      <td>0.227151</td>\n",
       "      <td>0.274102</td>\n",
       "      <td>-0.202257</td>\n",
       "      <td>-0.115217</td>\n",
       "      <td>-0.976867</td>\n",
       "      <td>0.426604</td>\n",
       "      <td>-0.058413</td>\n",
       "      <td>-1.443438</td>\n",
       "      <td>-0.828960</td>\n",
       "      <td>-0.343803</td>\n",
       "      <td>2.096877</td>\n",
       "      <td>7</td>\n",
       "      <td>0</td>\n",
       "      <td>1</td>\n",
       "    </tr>\n",
       "  </tbody>\n",
       "</table>\n",
       "</div>"
      ],
      "text/plain": [
       "    fixed acidity  volatile acidity  citric acid  residual sugar  chlorides  \\\n",
       "id                                                                            \n",
       "1        0.613164         -0.973871     0.346320       -0.862826  -0.444893   \n",
       "2        0.227151          0.274102    -0.202257       -0.115217  -0.976867   \n",
       "\n",
       "    free sulfur dioxide  total sulfur dioxide   density        pH  sulphates  \\\n",
       "id                                                                             \n",
       "1             -0.896417             -0.363344 -1.135570 -0.952533   0.524814   \n",
       "2              0.426604             -0.058413 -1.443438 -0.828960  -0.343803   \n",
       "\n",
       "     alcohol  quality  type_red  type_white  \n",
       "id                                           \n",
       "1   1.342873        6         0           1  \n",
       "2   2.096877        7         0           1  "
      ]
     },
     "metadata": {},
     "output_type": "display_data"
    },
    {
     "data": {
      "text/html": [
       "<div>\n",
       "<style scoped>\n",
       "    .dataframe tbody tr th:only-of-type {\n",
       "        vertical-align: middle;\n",
       "    }\n",
       "\n",
       "    .dataframe tbody tr th {\n",
       "        vertical-align: top;\n",
       "    }\n",
       "\n",
       "    .dataframe thead th {\n",
       "        text-align: right;\n",
       "    }\n",
       "</style>\n",
       "<table border=\"1\" class=\"dataframe\">\n",
       "  <thead>\n",
       "    <tr style=\"text-align: right;\">\n",
       "      <th></th>\n",
       "      <th>fixed acidity</th>\n",
       "      <th>volatile acidity</th>\n",
       "      <th>citric acid</th>\n",
       "      <th>residual sugar</th>\n",
       "      <th>chlorides</th>\n",
       "      <th>free sulfur dioxide</th>\n",
       "      <th>total sulfur dioxide</th>\n",
       "      <th>density</th>\n",
       "      <th>pH</th>\n",
       "      <th>sulphates</th>\n",
       "      <th>alcohol</th>\n",
       "      <th>type_red</th>\n",
       "      <th>type_white</th>\n",
       "    </tr>\n",
       "    <tr>\n",
       "      <th>id</th>\n",
       "      <th></th>\n",
       "      <th></th>\n",
       "      <th></th>\n",
       "      <th></th>\n",
       "      <th></th>\n",
       "      <th></th>\n",
       "      <th></th>\n",
       "      <th></th>\n",
       "      <th></th>\n",
       "      <th></th>\n",
       "      <th></th>\n",
       "      <th></th>\n",
       "      <th></th>\n",
       "    </tr>\n",
       "  </thead>\n",
       "  <tbody>\n",
       "    <tr>\n",
       "      <th>1</th>\n",
       "      <td>0.063011</td>\n",
       "      <td>-0.191206</td>\n",
       "      <td>-0.470589</td>\n",
       "      <td>0.258118</td>\n",
       "      <td>-0.707904</td>\n",
       "      <td>-0.022119</td>\n",
       "      <td>0.403475</td>\n",
       "      <td>-0.775939</td>\n",
       "      <td>-2.026277</td>\n",
       "      <td>-1.089432</td>\n",
       "      <td>0.515259</td>\n",
       "      <td>0</td>\n",
       "      <td>1</td>\n",
       "    </tr>\n",
       "    <tr>\n",
       "      <th>2</th>\n",
       "      <td>1.146747</td>\n",
       "      <td>2.162839</td>\n",
       "      <td>-0.539777</td>\n",
       "      <td>-0.624624</td>\n",
       "      <td>5.007836</td>\n",
       "      <td>-1.470535</td>\n",
       "      <td>-1.770665</td>\n",
       "      <td>1.489262</td>\n",
       "      <td>0.613957</td>\n",
       "      <td>0.462904</td>\n",
       "      <td>-1.248324</td>\n",
       "      <td>1</td>\n",
       "      <td>0</td>\n",
       "    </tr>\n",
       "  </tbody>\n",
       "</table>\n",
       "</div>"
      ],
      "text/plain": [
       "    fixed acidity  volatile acidity  citric acid  residual sugar  chlorides  \\\n",
       "id                                                                            \n",
       "1        0.063011         -0.191206    -0.470589        0.258118  -0.707904   \n",
       "2        1.146747          2.162839    -0.539777       -0.624624   5.007836   \n",
       "\n",
       "    free sulfur dioxide  total sulfur dioxide   density        pH  sulphates  \\\n",
       "id                                                                             \n",
       "1             -0.022119              0.403475 -0.775939 -2.026277  -1.089432   \n",
       "2             -1.470535             -1.770665  1.489262  0.613957   0.462904   \n",
       "\n",
       "     alcohol  type_red  type_white  \n",
       "id                                  \n",
       "1   0.515259         0           1  \n",
       "2  -1.248324         1           0  "
      ]
     },
     "metadata": {},
     "output_type": "display_data"
    }
   ],
   "source": [
    "# standard scaling to make the numeric variables\n",
    "\n",
    "ss = StandardScaler()\n",
    "\n",
    "for col in num_cols:\n",
    "    train_df[col] = ss.fit_transform(train_df[[col]])\n",
    "    test_df[col] = ss.fit_transform(test_df[[col]])\n",
    "    \n",
    "display(train_df.head(2), test_df.head(2))"
   ]
  },
  {
   "cell_type": "markdown",
   "metadata": {},
   "source": [
    "<br>\n",
    "\n",
    "## 모델 생성\n",
    "\n",
    "* train_test_split\n",
    "* k-fold cross validation\n",
    "* creating lgbm classifier\n",
    "* model evaluation\n"
   ]
  },
  {
   "cell_type": "code",
   "execution_count": 28,
   "metadata": {},
   "outputs": [
    {
     "data": {
      "text/plain": [
       "(3231, 13)"
      ]
     },
     "metadata": {},
     "output_type": "display_data"
    },
    {
     "data": {
      "text/plain": [
       "(3231,)"
      ]
     },
     "metadata": {},
     "output_type": "display_data"
    },
    {
     "data": {
      "text/plain": [
       "(3231, 13)"
      ]
     },
     "metadata": {},
     "output_type": "display_data"
    }
   ],
   "source": [
    "X_trn = train_df.drop('quality', axis=1).reset_index(drop=True)\n",
    "y_trn = train_df['quality'].reset_index(drop=True)\n",
    "X_tst = test_df.reset_index(drop=True)\n",
    "\n",
    "display(X_trn.shape, y_trn.shape, X_tst.shape)"
   ]
  },
  {
   "cell_type": "markdown",
   "metadata": {},
   "source": [
    "<br>\n",
    "\n",
    "### 종속변수 불균형상태에서의 모델 생성 및 성능평가\n",
    "\n",
    "<br>"
   ]
  },
  {
   "cell_type": "code",
   "execution_count": 29,
   "metadata": {
    "scrolled": false
   },
   "outputs": [
    {
     "name": "stdout",
     "output_type": "stream",
     "text": [
      "Fold 0's score: 0.6543\n",
      "Fold 1's score: 0.6378\n",
      "Fold 2's score: 0.6161\n",
      "Fold 3's score: 0.6316\n",
      "Fold 4's score: 0.6006\n",
      "Fold 5's score: 0.6130\n",
      "Fold 6's score: 0.6316\n",
      "Fold 7's score: 0.6563\n",
      "Fold 8's score: 0.6471\n",
      "Fold 9's score: 0.6347\n",
      "==========================================\n",
      "Mean auc of all folds: 0.6323\n"
     ]
    }
   ],
   "source": [
    "# k-fold cross validation, trial with the default parameter.\n",
    "\n",
    "\n",
    "RANDOM_SEED = 42\n",
    "n_splits = 10\n",
    "skf = StratifiedKFold(n_splits = n_splits, shuffle = True, random_state = RANDOM_SEED)\n",
    "\n",
    "preds_lgb = []\n",
    "mean_acc = 0\n",
    "\n",
    "model_lgb = LGBMClassifier(objective = 'multiclass', random_state = RANDOM_SEED)\n",
    "\n",
    "for fold, (trn_idx, val_idx) in enumerate(skf.split(X_trn, y_trn)):\n",
    "    X_train, X_val = X_trn.loc[trn_idx], X_trn.loc[val_idx]\n",
    "    y_train, y_val = y_trn.loc[trn_idx], y_trn.loc[val_idx]\n",
    "    \n",
    "    model_lgb.fit(X_train, y_train,\n",
    "             verbose = False,\n",
    "             eval_set = [(X_train, y_train), (X_val, y_val)],\n",
    "             eval_metric = 'logloss',\n",
    "             early_stopping_rounds = 100)\n",
    "    \n",
    "    y_preds = model_lgb.predict(X_val)\n",
    "    score = accuracy_score(y_val, y_preds)\n",
    "    mean_acc += score\n",
    "    \n",
    "    print(f\"Fold {fold}'s score: {score:.4f}\")\n",
    "        \n",
    "    preds_lgb.append(model_lgb.predict(X_tst))\n",
    "\n",
    "print(\"==========================================\")\n",
    "print(f\"Mean auc of all folds: {mean_acc / n_splits:.4f}\")"
   ]
  },
  {
   "cell_type": "code",
   "execution_count": 30,
   "metadata": {
    "scrolled": false
   },
   "outputs": [
    {
     "name": "stdout",
     "output_type": "stream",
     "text": [
      "Fold 0's score: 0.6235\n",
      "Fold 1's score: 0.6192\n",
      "Fold 2's score: 0.6037\n",
      "Fold 3's score: 0.6440\n",
      "Fold 4's score: 0.6037\n",
      "Fold 5's score: 0.5882\n",
      "Fold 6's score: 0.6254\n",
      "Fold 7's score: 0.6254\n",
      "Fold 8's score: 0.6347\n",
      "Fold 9's score: 0.6563\n",
      "==========================================\n",
      "Mean auc of all folds: 0.6224\n"
     ]
    }
   ],
   "source": [
    "# k-fold cross validation, trial with the default parameter.\n",
    "\n",
    "\n",
    "RANDOM_SEED = 42\n",
    "n_splits = 10\n",
    "skf = StratifiedKFold(n_splits = n_splits, shuffle = True, random_state = RANDOM_SEED)\n",
    "\n",
    "preds_xgb = []\n",
    "mean_acc = 0\n",
    "\n",
    "model_xgb = XGBClassifier(random_state = RANDOM_SEED)\n",
    "\n",
    "for fold, (trn_idx, val_idx) in enumerate(skf.split(X_trn, y_trn)):\n",
    "    X_train, X_val = X_trn.loc[trn_idx], X_trn.loc[val_idx]\n",
    "    y_train, y_val = y_trn.loc[trn_idx], y_trn.loc[val_idx]\n",
    "    \n",
    "    model_xgb.fit(X_train, y_train,\n",
    "             verbose = False,\n",
    "             eval_set = [(X_train, y_train), (X_val, y_val)],\n",
    "             eval_metric = 'mlogloss',\n",
    "             early_stopping_rounds = 100)\n",
    "    \n",
    "    y_preds = model_xgb.predict(X_val)\n",
    "    score = accuracy_score(y_val, y_preds)\n",
    "    mean_acc += score\n",
    "    \n",
    "    print(f\"Fold {fold}'s score: {score:.4f}\")\n",
    "        \n",
    "    preds_xgb.append(model_xgb.predict(X_tst))\n",
    "\n",
    "print(\"==========================================\")\n",
    "print(f\"Mean auc of all folds: {mean_acc / n_splits:.4f}\")"
   ]
  },
  {
   "cell_type": "code",
   "execution_count": 31,
   "metadata": {
    "scrolled": true
   },
   "outputs": [
    {
     "name": "stdout",
     "output_type": "stream",
     "text": [
      "Fold 0's score: 0.6543\n",
      "Fold 1's score: 0.6254\n",
      "Fold 2's score: 0.6409\n",
      "Fold 3's score: 0.6316\n",
      "Fold 4's score: 0.5975\n",
      "Fold 5's score: 0.6068\n",
      "Fold 6's score: 0.6502\n",
      "Fold 7's score: 0.6749\n",
      "Fold 8's score: 0.6749\n",
      "Fold 9's score: 0.6656\n",
      "==========================================\n",
      "Mean auc of all folds: 0.6422\n"
     ]
    }
   ],
   "source": [
    "# k-fold cross validation, trial with the default parameter.\n",
    "\n",
    "\n",
    "RANDOM_SEED = 42\n",
    "n_splits = 10\n",
    "skf = StratifiedKFold(n_splits = n_splits, shuffle = True, random_state = RANDOM_SEED)\n",
    "\n",
    "preds_rf = []\n",
    "mean_acc = 0\n",
    "\n",
    "model_rf = RandomForestClassifier(random_state = RANDOM_SEED)\n",
    "\n",
    "for fold, (trn_idx, val_idx) in enumerate(skf.split(X_trn, y_trn)):\n",
    "    X_train, X_val = X_trn.loc[trn_idx], X_trn.loc[val_idx]\n",
    "    y_train, y_val = y_trn.loc[trn_idx], y_trn.loc[val_idx]\n",
    "    \n",
    "    model_rf.fit(X_train, y_train)\n",
    "    \n",
    "    y_preds = model_rf.predict(X_val)\n",
    "    score = accuracy_score(y_val, y_preds)\n",
    "    mean_acc += score\n",
    "    \n",
    "    print(f\"Fold {fold}'s score: {score:.4f}\")\n",
    "        \n",
    "    preds_rf.append(model_rf.predict(X_tst))\n",
    "\n",
    "print(\"==========================================\")\n",
    "print(f\"Mean auc of all folds: {mean_acc / n_splits:.4f}\")"
   ]
  },
  {
   "cell_type": "code",
   "execution_count": 32,
   "metadata": {
    "scrolled": true
   },
   "outputs": [
    {
     "name": "stdout",
     "output_type": "stream",
     "text": [
      "Fold 0's score: 0.6574\n",
      "Fold 1's score: 0.6533\n",
      "Fold 2's score: 0.6440\n",
      "Fold 3's score: 0.6502\n",
      "Fold 4's score: 0.6192\n",
      "Fold 5's score: 0.6130\n",
      "Fold 6's score: 0.6440\n",
      "Fold 7's score: 0.6563\n",
      "Fold 8's score: 0.6563\n",
      "Fold 9's score: 0.6656\n",
      "==========================================\n",
      "Mean auc of all folds: 0.6459\n"
     ]
    }
   ],
   "source": [
    "# k-fold cross validation, trial with the default parameter.\n",
    "\n",
    "\n",
    "RANDOM_SEED = 42\n",
    "n_splits = 10\n",
    "skf = StratifiedKFold(n_splits = n_splits, shuffle = True, random_state = RANDOM_SEED)\n",
    "\n",
    "preds_et = []\n",
    "mean_acc = 0\n",
    "\n",
    "model_et = ExtraTreesClassifier(random_state = RANDOM_SEED)\n",
    "\n",
    "for fold, (trn_idx, val_idx) in enumerate(skf.split(X_trn, y_trn)):\n",
    "    X_train, X_val = X_trn.loc[trn_idx], X_trn.loc[val_idx]\n",
    "    y_train, y_val = y_trn.loc[trn_idx], y_trn.loc[val_idx]\n",
    "    \n",
    "    model_et.fit(X_train, y_train)\n",
    "    \n",
    "    y_preds_et = model_et.predict(X_val)\n",
    "    score = accuracy_score(y_val, y_preds_et)\n",
    "    mean_acc += score\n",
    "    \n",
    "    print(f\"Fold {fold}'s score: {score:.4f}\")\n",
    "        \n",
    "    preds_et.append(model_et.predict(X_tst))\n",
    "\n",
    "print(\"==========================================\")\n",
    "print(f\"Mean auc of all folds: {mean_acc / n_splits:.4f}\")"
   ]
  },
  {
   "cell_type": "code",
   "execution_count": 33,
   "metadata": {},
   "outputs": [
    {
     "name": "stdout",
     "output_type": "stream",
     "text": [
      "              precision    recall  f1-score   support\n",
      "\n",
      "           4       0.67      0.18      0.29        11\n",
      "           5       0.77      0.64      0.70       107\n",
      "           6       0.61      0.83      0.70       141\n",
      "           7       0.71      0.44      0.55        54\n",
      "           8       0.57      0.40      0.47        10\n",
      "\n",
      "    accuracy                           0.67       323\n",
      "   macro avg       0.67      0.50      0.54       323\n",
      "weighted avg       0.68      0.67      0.65       323\n",
      "\n"
     ]
    }
   ],
   "source": [
    "print(classification_report(y_val, y_preds_et))"
   ]
  },
  {
   "cell_type": "markdown",
   "metadata": {},
   "source": [
    "4를 기준으로 classification report를 해석하면 다음과 같습니다.\n",
    "\n",
    "classification report는 학습데이터 기준이 아닌 validation set을 기준으로 보는 것이 더욱 중요합니다.\n",
    "\n",
    "이유는, 학습데이터는 잘 학습했지만 validation set을 예측한 결과는 엉망일 수 있고, 이 경우 모델을 validation set에 대한 예측 기준으로 평가해야 해당 모델에 대한 올바른 평가를 내릴 수 있기 때문입니다.\n",
    "\n",
    "1. precision(정밀도): 4라고 예측한 것들 중 실제로 4일 확률 --> 타 클래스와 비슷한 수준\n",
    "2. recall(재현율): 실제로 4인 것들 중 모델이 4로 예측한 확률 --> 유독 4를 맞추는 게 어렵다\n",
    "3. F1(정밀도와 재현율의 가중조화평균): 4를 맞추는 게 어렵다\n",
    "\n",
    "<br>"
   ]
  },
  {
   "cell_type": "markdown",
   "metadata": {},
   "source": [
    "<br>\n",
    "\n",
    "### 불균형 데이터 확인 및 SMOTE, ADASYN으로 오버샘플링한 데이터 생성\n",
    "\n",
    "[참고 커널](https://www.kaggle.com/vislupus/smote-red-wine-quality)\n",
    "\n",
    "\n",
    "**불균형 데이터 문제**\n",
    "\n",
    "희귀병의 양성/음성을 예로 들면, 음성이 훨씬 많고 양성은 굉장히 적을 것입니다.\n",
    "\n",
    "모델을 만들 시, 양성을 제대로 예측하는 것이 중요한데, 불균형 데이터는 `accuracy`가 높아도 `재현율(recall: 실제 양성을 양성으로 예측할 확률)` 이 급격히 작아지는데, 가령 데이터에 양성이 3명, 음성이 97명이라면 그냥 전부 음성이라고 예측해도 정확도가 97%가 됩니다. \n",
    "\n",
    "정확도 기준으로는 훌륭한 모델이지만, recall 기준으로는 이 모델은 양성인 사람을 거의 예측할 수 없는 엉터리 모델일 수 있다는 뜻입니다.\n",
    "\n",
    "이 경우 불균형을 해결하기 위한 기법은 다음과 같습니다.\n",
    "\n",
    "\n",
    "* undersampling\n",
    "    + 무작위 추출: 무작위로 음성 데이터(정상 데이터, 즉 비중이 높은 클래스의 데이터) 중 일부만 선택\n",
    "    + 유의정보: 유의한 데이터만을 남기는 방식\n",
    "    + 단점: 데이터 정보 손실이 매우 커짐. 무작위이므로 실제로는 정말 중요했을 수 있는 데이터를 잃을 수 있음\n",
    "    \n",
    "\n",
    "* oversampling\n",
    "    + 무작위 추출: 무작위로 양성 데이터(소수 클래스)를 복제\n",
    "    + 장점: 정보손실이 없음\n",
    "    + 단점: 복제된 관측치를 original data set에 추가하기만 하기 때문에, 과대적합(overfitting)을 초래할 수 있다.\n",
    "    + 방안: 합성 데이터 생성 - 소수 데이터를 단순 복제하는 것이 아닌, 새로운 복제본을 만들어 낸다.\n",
    "\n",
    "\n",
    "* SMOTE(Synthetic Minority Oversampling TEchnique: 합성 소수 샘플링 기술)\n",
    "    + 합성데이터를 생성하는 기법\n",
    "    + 다수클래스를 샘플링하고, 기존 소수 샘플을 보간하여 새로운 소수 인스턴스를 합성해낸다.\n",
    "    + 일반적으로 잘 작동하나, 학습데이터 내의 소수데이터들 사이의 특성만 반영되어 작동하므로 새로운 사례의 데이터에 취약할 수 있음\n",
    "    + 또한 over-generalization문제 발생 가능 --> 주변 샘플에 대한 고려 없이 소수클래스에 속하는 모든 개별 샘플들에 대해 동일한 방법으로 합성데이터를 생성(말이 좀 어려운데,, 지나친 일반화가 된다고 이해하고 넘어가도 됩니다)\n",
    "    \n",
    "    \n",
    "* ADASYN(Adaptive Synthetic Sampling)\n",
    "    + SMOTE와 비슷한 방식으로 샘플링\n",
    "    + SMOTE의 over generalization문제 해결을 위해 제안된 적응형 방법\n",
    "    + 주위 데이터의 분포에 따라 발생시킬 합성 데이터 수를 좀 더 체계적으로 조절하며 작동\n",
    "\n",
    "<br>"
   ]
  },
  {
   "cell_type": "code",
   "execution_count": 34,
   "metadata": {},
   "outputs": [
    {
     "data": {
      "text/plain": [
       "Counter({6: 1418, 7: 539, 5: 1069, 8: 97, 4: 108})"
      ]
     },
     "execution_count": 34,
     "metadata": {},
     "output_type": "execute_result"
    }
   ],
   "source": [
    "# Counter, SMOTE, ADASYN import는 맨 위 참고\n",
    "\n",
    "Counter(y_trn)"
   ]
  },
  {
   "cell_type": "code",
   "execution_count": 35,
   "metadata": {},
   "outputs": [
    {
     "name": "stdout",
     "output_type": "stream",
     "text": [
      "Counter({6: 3000, 7: 3000, 5: 3000, 8: 3000, 4: 3000})\n"
     ]
    }
   ],
   "source": [
    "# 클래스 별로 3000개로 구성되도록 오버샘플링\n",
    "\n",
    "oversample_smote = SMOTE(sampling_strategy = {6: 3000, 7: 3000, 5: 3000, 8: 3000, 4: 3000},\n",
    "                         random_state = RANDOM_SEED)\n",
    "\n",
    "X_smote, y_smote = oversample_smote.fit_resample(X_trn, y_trn)\n",
    "\n",
    "counter_smote = Counter(y_smote)\n",
    "print(counter_smote)"
   ]
  },
  {
   "cell_type": "code",
   "execution_count": 36,
   "metadata": {},
   "outputs": [
    {
     "name": "stdout",
     "output_type": "stream",
     "text": [
      "Counter({5: 3047, 7: 3034, 8: 2997, 4: 2989, 6: 2731})\n"
     ]
    }
   ],
   "source": [
    "# 위 설명에서 \"주위 데이터의 분포에 따라 발생시킬 합성 데이터 수를 좀 더 체계적으로 조절하며 작동\" 이라고 한 것처럼 \n",
    "# 3000개로 입력해도 클래스 별 갯수는 각각 다르게 오버샘플링 됨\n",
    "\n",
    "oversample_adasyn = ADASYN(sampling_strategy = {6: 3000, 7: 3000, 5: 3000, 8: 3000, 4: 3000},\n",
    "                           random_state = RANDOM_SEED)\n",
    "\n",
    "X_adasyn, y_adasyn = oversample_adasyn.fit_resample(X_trn, y_trn)\n",
    "\n",
    "counter_adasyn = Counter(y_adasyn)\n",
    "print(counter_adasyn)"
   ]
  },
  {
   "cell_type": "markdown",
   "metadata": {},
   "source": [
    "<br>\n",
    "\n",
    "### SMOTE를 이용한 오버샘플링 데이터로 모델 생성 및 성능 평가\n",
    "\n",
    "<br>"
   ]
  },
  {
   "cell_type": "code",
   "execution_count": 37,
   "metadata": {
    "scrolled": false
   },
   "outputs": [
    {
     "name": "stdout",
     "output_type": "stream",
     "text": [
      "Fold 0's score: 0.8653\n",
      "Fold 1's score: 0.8760\n",
      "Fold 2's score: 0.8707\n",
      "Fold 3's score: 0.8707\n",
      "Fold 4's score: 0.8747\n",
      "Fold 5's score: 0.8653\n",
      "Fold 6's score: 0.8653\n",
      "Fold 7's score: 0.8747\n",
      "Fold 8's score: 0.8727\n",
      "Fold 9's score: 0.8793\n",
      "==========================================\n",
      "Mean auc of all folds: 0.8715\n"
     ]
    }
   ],
   "source": [
    "# k-fold cross validation, trial with the default parameter.\n",
    "\n",
    "\n",
    "RANDOM_SEED = 42\n",
    "n_splits = 10\n",
    "skf = StratifiedKFold(n_splits = n_splits, shuffle = True, random_state = RANDOM_SEED)\n",
    "\n",
    "preds = []\n",
    "mean_acc = 0\n",
    "\n",
    "model_lgb = LGBMClassifier(objective = 'multiclass', random_state = RANDOM_SEED, boosting_from_average = False)\n",
    "\n",
    "for fold, (trn_idx, val_idx) in enumerate(skf.split(X_smote, y_smote)):\n",
    "    X_train, X_val = X_smote.loc[trn_idx], X_smote.loc[val_idx]\n",
    "    y_train, y_val = y_smote.loc[trn_idx], y_smote.loc[val_idx]\n",
    "    \n",
    "    model_lgb.fit(X_train, y_train,\n",
    "             verbose = False,\n",
    "             eval_set = [(X_train, y_train), (X_val, y_val)],\n",
    "             eval_metric = 'logloss',\n",
    "             early_stopping_rounds = 100)\n",
    "    \n",
    "    y_preds = model_lgb.predict(X_val)\n",
    "    score = accuracy_score(y_val, y_preds)\n",
    "    mean_acc += score\n",
    "    \n",
    "    print(f\"Fold {fold}'s score: {score:.4f}\")\n",
    "        \n",
    "    preds.append(model_lgb.predict(X_tst))\n",
    "\n",
    "print(\"==========================================\")\n",
    "print(f\"Mean auc of all folds: {mean_acc / n_splits:.4f}\")"
   ]
  },
  {
   "cell_type": "code",
   "execution_count": 38,
   "metadata": {
    "scrolled": false
   },
   "outputs": [
    {
     "name": "stdout",
     "output_type": "stream",
     "text": [
      "Fold 0's score: 0.9087\n",
      "Fold 1's score: 0.9173\n",
      "Fold 2's score: 0.9193\n",
      "Fold 3's score: 0.9193\n",
      "Fold 4's score: 0.9333\n",
      "Fold 5's score: 0.9067\n",
      "Fold 6's score: 0.9160\n",
      "Fold 7's score: 0.9160\n",
      "Fold 8's score: 0.9027\n",
      "Fold 9's score: 0.9200\n",
      "==========================================\n",
      "Mean auc of all folds: 0.9159\n"
     ]
    }
   ],
   "source": [
    "# k-fold cross validation, trial with the default parameter.\n",
    "\n",
    "\n",
    "RANDOM_SEED = 42\n",
    "n_splits = 10\n",
    "skf = StratifiedKFold(n_splits = n_splits, shuffle = True, random_state = RANDOM_SEED)\n",
    "\n",
    "preds = []\n",
    "mean_acc = 0\n",
    "\n",
    "model_xgb = XGBClassifier(random_state = RANDOM_SEED)\n",
    "\n",
    "for fold, (trn_idx, val_idx) in enumerate(skf.split(X_smote, y_smote)):\n",
    "    X_train, X_val = X_smote.loc[trn_idx], X_smote.loc[val_idx]\n",
    "    y_train, y_val = y_smote.loc[trn_idx], y_smote.loc[val_idx]\n",
    "    \n",
    "    model_xgb.fit(X_train, y_train,\n",
    "             verbose = False,\n",
    "             eval_set = [(X_train, y_train), (X_val, y_val)],\n",
    "             eval_metric = 'mlogloss',\n",
    "             early_stopping_rounds = 100)\n",
    "    \n",
    "    y_preds = model_xgb.predict(X_val)\n",
    "    score = accuracy_score(y_val, y_preds)\n",
    "    mean_acc += score\n",
    "    \n",
    "    print(f\"Fold {fold}'s score: {score:.4f}\")\n",
    "        \n",
    "    preds.append(model_xgb.predict(X_tst))\n",
    "\n",
    "print(\"==========================================\")\n",
    "print(f\"Mean auc of all folds: {mean_acc / n_splits:.4f}\")"
   ]
  },
  {
   "cell_type": "code",
   "execution_count": 39,
   "metadata": {
    "scrolled": true
   },
   "outputs": [
    {
     "name": "stdout",
     "output_type": "stream",
     "text": [
      "Fold 0's score: 0.9467\n",
      "Fold 1's score: 0.9493\n",
      "Fold 2's score: 0.9427\n",
      "Fold 3's score: 0.9480\n",
      "Fold 4's score: 0.9600\n",
      "Fold 5's score: 0.9440\n",
      "Fold 6's score: 0.9453\n",
      "Fold 7's score: 0.9473\n",
      "Fold 8's score: 0.9393\n",
      "Fold 9's score: 0.9547\n",
      "==========================================\n",
      "Mean auc of all folds: 0.9477\n"
     ]
    }
   ],
   "source": [
    "# k-fold cross validation, trial with the default parameter.\n",
    "\n",
    "\n",
    "RANDOM_SEED = 42\n",
    "n_splits = 10\n",
    "skf = StratifiedKFold(n_splits = n_splits, shuffle = True, random_state = RANDOM_SEED)\n",
    "\n",
    "preds = []\n",
    "mean_acc = 0\n",
    "\n",
    "model_rf = RandomForestClassifier(random_state = RANDOM_SEED)\n",
    "\n",
    "for fold, (trn_idx, val_idx) in enumerate(skf.split(X_smote, y_smote)):\n",
    "    X_train, X_val = X_smote.loc[trn_idx], X_smote.loc[val_idx]\n",
    "    y_train, y_val = y_smote.loc[trn_idx], y_smote.loc[val_idx]\n",
    "    \n",
    "    model_rf.fit(X_train, y_train)\n",
    "    \n",
    "    y_preds = model_rf.predict(X_val)\n",
    "    score = accuracy_score(y_val, y_preds)\n",
    "    mean_acc += score\n",
    "    \n",
    "    print(f\"Fold {fold}'s score: {score:.4f}\")\n",
    "        \n",
    "    preds.append(model_rf.predict(X_tst))\n",
    "\n",
    "print(\"==========================================\")\n",
    "print(f\"Mean auc of all folds: {mean_acc / n_splits:.4f}\")"
   ]
  },
  {
   "cell_type": "code",
   "execution_count": 40,
   "metadata": {
    "scrolled": true
   },
   "outputs": [
    {
     "name": "stdout",
     "output_type": "stream",
     "text": [
      "Fold 0's score: 0.9600\n",
      "Fold 1's score: 0.9553\n",
      "Fold 2's score: 0.9613\n",
      "Fold 3's score: 0.9667\n",
      "Fold 4's score: 0.9700\n",
      "Fold 5's score: 0.9640\n",
      "Fold 6's score: 0.9600\n",
      "Fold 7's score: 0.9680\n",
      "Fold 8's score: 0.9573\n",
      "Fold 9's score: 0.9600\n",
      "==========================================\n",
      "Mean auc of all folds: 0.9623\n"
     ]
    }
   ],
   "source": [
    "# k-fold cross validation, trial with the default parameter.\n",
    "\n",
    "\n",
    "RANDOM_SEED = 42\n",
    "n_splits = 10\n",
    "skf = StratifiedKFold(n_splits = n_splits, shuffle = True, random_state = RANDOM_SEED)\n",
    "\n",
    "preds_et_smote = []\n",
    "mean_acc = 0\n",
    "\n",
    "model_et = ExtraTreesClassifier(random_state = RANDOM_SEED)\n",
    "\n",
    "for fold, (trn_idx, val_idx) in enumerate(skf.split(X_smote, y_smote)):\n",
    "    X_train, X_val = X_smote.loc[trn_idx], X_smote.loc[val_idx]\n",
    "    y_train, y_val = y_smote.loc[trn_idx], y_smote.loc[val_idx]\n",
    "    \n",
    "    model_et.fit(X_train, y_train)\n",
    "    \n",
    "    y_preds = model_et.predict(X_val)\n",
    "    score = accuracy_score(y_val, y_preds)\n",
    "    mean_acc += score\n",
    "    \n",
    "    print(f\"Fold {fold}'s score: {score:.4f}\")\n",
    "        \n",
    "    preds_et_smote.append(model_et.predict(X_tst))\n",
    "\n",
    "print(\"==========================================\")\n",
    "print(f\"Mean auc of all folds: {mean_acc / n_splits:.4f}\")"
   ]
  },
  {
   "cell_type": "code",
   "execution_count": 345,
   "metadata": {
    "scrolled": true
   },
   "outputs": [
    {
     "name": "stdout",
     "output_type": "stream",
     "text": [
      "              precision    recall  f1-score   support\n",
      "\n",
      "           4       0.95      0.99      0.97       142\n",
      "           5       0.82      0.80      0.81       142\n",
      "           6       0.76      0.67      0.71       141\n",
      "           7       0.88      0.91      0.89       142\n",
      "           8       0.95      1.00      0.98       142\n",
      "\n",
      "    accuracy                           0.88       709\n",
      "   macro avg       0.87      0.88      0.87       709\n",
      "weighted avg       0.87      0.88      0.87       709\n",
      "\n"
     ]
    }
   ],
   "source": [
    "# ExtraTreesClassifier 의 마지막 validation 예측 값 기준\n",
    "\n",
    "print(classification_report(y_val, y_preds))"
   ]
  },
  {
   "cell_type": "markdown",
   "metadata": {},
   "source": [
    "<br>\n",
    "\n",
    "일단 내부 평가의 accuracy score가 상당히 올라갔습니다. \n",
    "\n",
    "대부분 90%를 훌쩍 넘는 accuracy를 보였고, classification report를 보면 precision도 그렇지만 recall이 기존 불균형 상태에서의 결과 대비 엄청나게 좋아진 것을 알 수 있습니다.\n",
    "\n",
    "오히려 6에 대한 precision과 recall이 꽤 낮아졌음을 알 수 있습니다.\n",
    "\n",
    "해석은 자유롭게 하면 되는데, 저의 생각은 qualtiy 6이 굉장히 특징적이었으나 오버샘플링으로 다른 클래스들과 균형이 맞춰지자 qualtiy 6의 특징이 희석된 것으로 보입니다.\n",
    "\n",
    "이 경우 언더샘플링도 해본다면 좀 더 알 수 있을 것 같습니다.\n",
    "\n",
    "\n",
    "<br>"
   ]
  },
  {
   "cell_type": "markdown",
   "metadata": {},
   "source": [
    "<br>\n",
    "\n",
    "### ADASYN을 이용한 오버샘플링 데이터로 모델 생성 및 성능 평가\n",
    "\n",
    "<br>"
   ]
  },
  {
   "cell_type": "code",
   "execution_count": 142,
   "metadata": {
    "scrolled": false
   },
   "outputs": [
    {
     "name": "stdout",
     "output_type": "stream",
     "text": [
      "Fold 0's score: 0.8541\n",
      "Fold 1's score: 0.8588\n",
      "Fold 2's score: 0.8547\n",
      "Fold 3's score: 0.8405\n",
      "Fold 4's score: 0.8392\n",
      "Fold 5's score: 0.8473\n",
      "Fold 6's score: 0.8439\n",
      "Fold 7's score: 0.8365\n",
      "Fold 8's score: 0.8553\n",
      "Fold 9's score: 0.8614\n",
      "==========================================\n",
      "Mean auc of all folds: 0.8492\n"
     ]
    }
   ],
   "source": [
    "# k-fold cross validation, trial with the default parameter.\n",
    "\n",
    "\n",
    "RANDOM_SEED = 42\n",
    "n_splits = 10\n",
    "skf = StratifiedKFold(n_splits = n_splits, shuffle = True, random_state = RANDOM_SEED)\n",
    "\n",
    "preds = []\n",
    "mean_acc = 0\n",
    "\n",
    "model_lgb = LGBMClassifier(objective = 'multiclass', random_state = RANDOM_SEED, boosting_from_average = False)\n",
    "\n",
    "for fold, (trn_idx, val_idx) in enumerate(skf.split(X_adasyn, y_adasyn)):\n",
    "    X_train, X_val = X_adasyn.loc[trn_idx], X_adasyn.loc[val_idx]\n",
    "    y_train, y_val = y_adasyn.loc[trn_idx], y_adasyn.loc[val_idx]\n",
    "    \n",
    "    model_lgb.fit(X_train, y_train,\n",
    "             verbose = False,\n",
    "             eval_set = [(X_train, y_train), (X_val, y_val)],\n",
    "             eval_metric = 'logloss',\n",
    "             early_stopping_rounds = 100)\n",
    "    \n",
    "    y_preds = model_lgb.predict(X_val)\n",
    "    score = accuracy_score(y_val, y_preds)\n",
    "    mean_acc += score\n",
    "    \n",
    "    print(f\"Fold {fold}'s score: {score:.4f}\")\n",
    "        \n",
    "    preds.append(model_lgb.predict(X_tst))\n",
    "\n",
    "print(\"==========================================\")\n",
    "print(f\"Mean auc of all folds: {mean_acc / n_splits:.4f}\")"
   ]
  },
  {
   "cell_type": "code",
   "execution_count": 143,
   "metadata": {
    "scrolled": false
   },
   "outputs": [
    {
     "name": "stdout",
     "output_type": "stream",
     "text": [
      "Fold 0's score: 0.9101\n",
      "Fold 1's score: 0.9108\n",
      "Fold 2's score: 0.9155\n",
      "Fold 3's score: 0.9115\n",
      "Fold 4's score: 0.8818\n",
      "Fold 5's score: 0.9041\n",
      "Fold 6's score: 0.8973\n",
      "Fold 7's score: 0.8899\n",
      "Fold 8's score: 0.8979\n",
      "Fold 9's score: 0.9162\n",
      "==========================================\n",
      "Mean auc of all folds: 0.9035\n"
     ]
    }
   ],
   "source": [
    "# k-fold cross validation, trial with the default parameter.\n",
    "\n",
    "\n",
    "RANDOM_SEED = 42\n",
    "n_splits = 10\n",
    "skf = StratifiedKFold(n_splits = n_splits, shuffle = True, random_state = RANDOM_SEED)\n",
    "\n",
    "preds = []\n",
    "mean_acc = 0\n",
    "\n",
    "model_xgb = XGBClassifier(random_state = RANDOM_SEED)\n",
    "\n",
    "for fold, (trn_idx, val_idx) in enumerate(skf.split(X_adasyn, y_adasyn)):\n",
    "    X_train, X_val = X_adasyn.loc[trn_idx], X_adasyn.loc[val_idx]\n",
    "    y_train, y_val = y_adasyn.loc[trn_idx], y_adasyn.loc[val_idx]\n",
    "    \n",
    "    model_xgb.fit(X_train, y_train,\n",
    "             verbose = False,\n",
    "             eval_set = [(X_train, y_train), (X_val, y_val)],\n",
    "             eval_metric = 'mlogloss',\n",
    "             early_stopping_rounds = 100)\n",
    "    \n",
    "    y_preds = model_xgb.predict(X_val)\n",
    "    score = accuracy_score(y_val, y_preds)\n",
    "    mean_acc += score\n",
    "    \n",
    "    print(f\"Fold {fold}'s score: {score:.4f}\")\n",
    "        \n",
    "    preds.append(model_xgb.predict(X_tst))\n",
    "\n",
    "print(\"==========================================\")\n",
    "print(f\"Mean auc of all folds: {mean_acc / n_splits:.4f}\")"
   ]
  },
  {
   "cell_type": "code",
   "execution_count": 144,
   "metadata": {
    "scrolled": true
   },
   "outputs": [
    {
     "name": "stdout",
     "output_type": "stream",
     "text": [
      "Fold 0's score: 0.9432\n",
      "Fold 1's score: 0.9493\n",
      "Fold 2's score: 0.9392\n",
      "Fold 3's score: 0.9453\n",
      "Fold 4's score: 0.9318\n",
      "Fold 5's score: 0.9399\n",
      "Fold 6's score: 0.9338\n",
      "Fold 7's score: 0.9351\n",
      "Fold 8's score: 0.9459\n",
      "Fold 9's score: 0.9466\n",
      "==========================================\n",
      "Mean auc of all folds: 0.9410\n"
     ]
    }
   ],
   "source": [
    "# k-fold cross validation, trial with the default parameter.\n",
    "\n",
    "\n",
    "RANDOM_SEED = 42\n",
    "n_splits = 10\n",
    "skf = StratifiedKFold(n_splits = n_splits, shuffle = True, random_state = RANDOM_SEED)\n",
    "\n",
    "preds = []\n",
    "mean_acc = 0\n",
    "\n",
    "model_rf = RandomForestClassifier(random_state = RANDOM_SEED)\n",
    "\n",
    "for fold, (trn_idx, val_idx) in enumerate(skf.split(X_adasyn, y_adasyn)):\n",
    "    X_train, X_val = X_adasyn.loc[trn_idx], X_adasyn.loc[val_idx]\n",
    "    y_train, y_val = y_adasyn.loc[trn_idx], y_adasyn.loc[val_idx]\n",
    "    \n",
    "    model_rf.fit(X_train, y_train)\n",
    "    \n",
    "    y_preds = model_rf.predict(X_val)\n",
    "    score = accuracy_score(y_val, y_preds)\n",
    "    mean_acc += score\n",
    "    \n",
    "    print(f\"Fold {fold}'s score: {score:.4f}\")\n",
    "        \n",
    "    preds.append(model_rf.predict(X_tst))\n",
    "\n",
    "print(\"==========================================\")\n",
    "print(f\"Mean auc of all folds: {mean_acc / n_splits:.4f}\")"
   ]
  },
  {
   "cell_type": "code",
   "execution_count": 145,
   "metadata": {
    "scrolled": true
   },
   "outputs": [
    {
     "name": "stdout",
     "output_type": "stream",
     "text": [
      "Fold 0's score: 0.9622\n",
      "Fold 1's score: 0.9601\n",
      "Fold 2's score: 0.9628\n",
      "Fold 3's score: 0.9628\n",
      "Fold 4's score: 0.9514\n",
      "Fold 5's score: 0.9608\n",
      "Fold 6's score: 0.9554\n",
      "Fold 7's score: 0.9493\n",
      "Fold 8's score: 0.9628\n",
      "Fold 9's score: 0.9608\n",
      "==========================================\n",
      "Mean auc of all folds: 0.9588\n"
     ]
    }
   ],
   "source": [
    "# k-fold cross validation, trial with the default parameter.\n",
    "\n",
    "\n",
    "RANDOM_SEED = 42\n",
    "n_splits = 10\n",
    "skf = StratifiedKFold(n_splits = n_splits, shuffle = True, random_state = RANDOM_SEED)\n",
    "\n",
    "preds = []\n",
    "mean_acc = 0\n",
    "\n",
    "model_et = ExtraTreesClassifier(random_state = RANDOM_SEED)\n",
    "\n",
    "for fold, (trn_idx, val_idx) in enumerate(skf.split(X_adasyn, y_adasyn)):\n",
    "    X_train, X_val = X_adasyn.loc[trn_idx], X_adasyn.loc[val_idx]\n",
    "    y_train, y_val = y_adasyn.loc[trn_idx], y_adasyn.loc[val_idx]\n",
    "    \n",
    "    model_et.fit(X_train, y_train)\n",
    "    \n",
    "    y_preds = model_et.predict(X_val)\n",
    "    score = accuracy_score(y_val, y_preds)\n",
    "    mean_acc += score\n",
    "    \n",
    "    print(f\"Fold {fold}'s score: {score:.4f}\")\n",
    "        \n",
    "    preds.append(model_et.predict(X_tst))\n",
    "\n",
    "print(\"==========================================\")\n",
    "print(f\"Mean auc of all folds: {mean_acc / n_splits:.4f}\")"
   ]
  },
  {
   "cell_type": "markdown",
   "metadata": {},
   "source": [
    "<br>\n",
    "\n",
    "### 제출 후 Accuracy 비교 결과: 학습데이터에 과적합\n",
    "\n",
    "이대로 제출을 하면 점수는 어떻게 될지 살펴봤는데 학습데이터에 굉장히 과적합된 모델이 되었음을 알 수 있었습니다. \n",
    "\n",
    "\n",
    "* 불균형: 0.65\n",
    "* SMOTE: 0.63\n",
    "* ADASYN: 굳이 제출해볼 필요 없을 듯.\n",
    "\n",
    "<br>"
   ]
  },
  {
   "cell_type": "markdown",
   "metadata": {},
   "source": [
    "<br>\n",
    "\n",
    "SMOTE 적용 후의 수치형 변수는 quality 별로 어떻게 달라졌을까?\n",
    "\n",
    "결론적으로 크게 달라진 게 없는데요,\n",
    "\n",
    "이유는 기존의 변수들의 분포를 보면 분포의 형태로 quality를 구분해 볼 수 있는 마땅한 변수가 없습니다.\n",
    "\n",
    "즉 SMOTE나 ADASYN이 효과가 없는 라이브러리라는 것이 아닌, 데이터 자체가 quality를 정확히 예측하는 데에 효과가 크지 않은 데이터라고 할 수 있을 것 같다는 생각입니다. \n",
    "\n",
    "이를테면 alcohol은 quality와 상관관계가 0.45로 가장 높지만 아래 시각화를 보시면 클래스별로 고루 분포되어 있습니다.\n",
    "\n",
    "그렇기 때문에, Alcohol 도수가 높을수록 quality가 높아진다던지.. 반대로 낮을수록 높아진다던지 하는 특징을 잡아내기가 어렵습니다.\n",
    "\n",
    "이 경우는 모델의 성능을 끌어올리려고 여러 모델을 써보는 건 큰 효과가 없을 가능성이 높을 것 같습니다.\n",
    "(효과는 있어도 획기적인 개선이 어려울 듯..)\n",
    "\n",
    "따라서 만약 실제 와인회사의 데이터 분석 담당이라면 이 경우 외부 데이터를 이용한다던지, 새로운 변수들을 추가 수집하는 것이 필요합니다. 예를 들어 포도의 품종, 브랜드, 숙성기간, 제조국가 등 와인의 품질에 영향을 미치는 요소는 많습니다.\n",
    "\n",
    "또는 기존 변수 내에서 수치형 변수의 구간을 나눠서 명목형 변수화 하여 파생변수를 만들어 보는 것도 좋을 것 같습니다.\n",
    "\n",
    "대회 게시판 글을 보면 알 수 있듯이 모 회원이 규정위반으로 탈락하긴 했지만 외부데이터를 약간 이용했더니 0.7 이상으로 점수가 크게 상승했던 경우가 있죠.\n",
    "\n",
    "다만 이 대회는 연습용으로 외부데이터 사용을 금지하고 있으므로 오히려 이 데이터를 통해 판다스나 시각화 연습, 또는 모델의 이론적인 부분, 불균형 데이터 다루는 방법, 또는 단지 1%의 상승이 있더라도 유의미한 파생변수를 변수 간 상관관계를 고려하여 직접 만들어 보는 연습 등등 다양한 학습과 시도의 측면으로 하시는 게 좋을 것 같습니다.\n",
    "\n",
    "<br>"
   ]
  },
  {
   "cell_type": "code",
   "execution_count": 41,
   "metadata": {},
   "outputs": [
    {
     "data": {
      "text/html": [
       "<div>\n",
       "<style scoped>\n",
       "    .dataframe tbody tr th:only-of-type {\n",
       "        vertical-align: middle;\n",
       "    }\n",
       "\n",
       "    .dataframe tbody tr th {\n",
       "        vertical-align: top;\n",
       "    }\n",
       "\n",
       "    .dataframe thead th {\n",
       "        text-align: right;\n",
       "    }\n",
       "</style>\n",
       "<table border=\"1\" class=\"dataframe\">\n",
       "  <thead>\n",
       "    <tr style=\"text-align: right;\">\n",
       "      <th></th>\n",
       "      <th>fixed acidity</th>\n",
       "      <th>volatile acidity</th>\n",
       "      <th>citric acid</th>\n",
       "      <th>residual sugar</th>\n",
       "      <th>chlorides</th>\n",
       "      <th>free sulfur dioxide</th>\n",
       "      <th>total sulfur dioxide</th>\n",
       "      <th>density</th>\n",
       "      <th>pH</th>\n",
       "      <th>sulphates</th>\n",
       "      <th>alcohol</th>\n",
       "      <th>type_red</th>\n",
       "      <th>type_white</th>\n",
       "      <th>quality</th>\n",
       "    </tr>\n",
       "  </thead>\n",
       "  <tbody>\n",
       "    <tr>\n",
       "      <th>0</th>\n",
       "      <td>0.613164</td>\n",
       "      <td>-0.973871</td>\n",
       "      <td>0.34632</td>\n",
       "      <td>-0.862826</td>\n",
       "      <td>-0.444893</td>\n",
       "      <td>-0.896417</td>\n",
       "      <td>-0.363344</td>\n",
       "      <td>-1.13557</td>\n",
       "      <td>-0.952533</td>\n",
       "      <td>0.524814</td>\n",
       "      <td>1.342873</td>\n",
       "      <td>0</td>\n",
       "      <td>1</td>\n",
       "      <td>6</td>\n",
       "    </tr>\n",
       "  </tbody>\n",
       "</table>\n",
       "</div>"
      ],
      "text/plain": [
       "   fixed acidity  volatile acidity  citric acid  residual sugar  chlorides  \\\n",
       "0       0.613164         -0.973871      0.34632       -0.862826  -0.444893   \n",
       "\n",
       "   free sulfur dioxide  total sulfur dioxide  density        pH  sulphates  \\\n",
       "0            -0.896417             -0.363344 -1.13557 -0.952533   0.524814   \n",
       "\n",
       "    alcohol  type_red  type_white  quality  \n",
       "0  1.342873         0           1        6  "
      ]
     },
     "execution_count": 41,
     "metadata": {},
     "output_type": "execute_result"
    }
   ],
   "source": [
    "smote_train = X_smote.copy()\n",
    "smote_train['quality'] = y_smote\n",
    "smote_train.head(1)"
   ]
  },
  {
   "cell_type": "code",
   "execution_count": 42,
   "metadata": {},
   "outputs": [],
   "source": [
    "# 피벗테이블 생성\n",
    "def create_pivot_smote(n):\n",
    "    pivot_df = pd.pivot_table(data = smote_train, index = 'quality', values = num_cols[n], aggfunc = ['mean', 'count'])\n",
    "    pivot_df['ratio, %'] = round(pivot_df[('count', num_cols[n])] / len(smote_train) * 100, 2)\n",
    "    return pivot_df\n",
    "\n",
    "# hist plot 생성\n",
    "def create_plot_smote(n):\n",
    "    sns.histplot(data = smote_train, x = num_cols[n], hue = 'quality', palette = 'colorblind')\n",
    "    plt.show()"
   ]
  },
  {
   "cell_type": "code",
   "execution_count": 43,
   "metadata": {
    "scrolled": false
   },
   "outputs": [
    {
     "data": {
      "image/png": "[encoded data removed]",
      "text/plain": [
       "<Figure size 432x288 with 1 Axes>"
      ]
     },
     "metadata": {},
     "output_type": "display_data"
    },
    {
     "data": {
      "text/html": [
       "<div>\n",
       "<style scoped>\n",
       "    .dataframe tbody tr th:only-of-type {\n",
       "        vertical-align: middle;\n",
       "    }\n",
       "\n",
       "    .dataframe tbody tr th {\n",
       "        vertical-align: top;\n",
       "    }\n",
       "\n",
       "    .dataframe thead tr th {\n",
       "        text-align: left;\n",
       "    }\n",
       "\n",
       "    .dataframe thead tr:last-of-type th {\n",
       "        text-align: right;\n",
       "    }\n",
       "</style>\n",
       "<table border=\"1\" class=\"dataframe\">\n",
       "  <thead>\n",
       "    <tr>\n",
       "      <th></th>\n",
       "      <th>mean</th>\n",
       "      <th>count</th>\n",
       "      <th>ratio, %</th>\n",
       "    </tr>\n",
       "    <tr>\n",
       "      <th></th>\n",
       "      <th>alcohol</th>\n",
       "      <th>alcohol</th>\n",
       "      <th></th>\n",
       "    </tr>\n",
       "    <tr>\n",
       "      <th>quality</th>\n",
       "      <th></th>\n",
       "      <th></th>\n",
       "      <th></th>\n",
       "    </tr>\n",
       "  </thead>\n",
       "  <tbody>\n",
       "    <tr>\n",
       "      <th>4</th>\n",
       "      <td>-0.280718</td>\n",
       "      <td>3000</td>\n",
       "      <td>20.0</td>\n",
       "    </tr>\n",
       "    <tr>\n",
       "      <th>5</th>\n",
       "      <td>-0.547277</td>\n",
       "      <td>3000</td>\n",
       "      <td>20.0</td>\n",
       "    </tr>\n",
       "    <tr>\n",
       "      <th>6</th>\n",
       "      <td>0.046511</td>\n",
       "      <td>3000</td>\n",
       "      <td>20.0</td>\n",
       "    </tr>\n",
       "    <tr>\n",
       "      <th>7</th>\n",
       "      <td>0.784797</td>\n",
       "      <td>3000</td>\n",
       "      <td>20.0</td>\n",
       "    </tr>\n",
       "    <tr>\n",
       "      <th>8</th>\n",
       "      <td>0.868457</td>\n",
       "      <td>3000</td>\n",
       "      <td>20.0</td>\n",
       "    </tr>\n",
       "  </tbody>\n",
       "</table>\n",
       "</div>"
      ],
      "text/plain": [
       "             mean   count ratio, %\n",
       "          alcohol alcohol         \n",
       "quality                           \n",
       "4       -0.280718    3000     20.0\n",
       "5       -0.547277    3000     20.0\n",
       "6        0.046511    3000     20.0\n",
       "7        0.784797    3000     20.0\n",
       "8        0.868457    3000     20.0"
      ]
     },
     "metadata": {},
     "output_type": "display_data"
    },
    {
     "data": {
      "text/plain": [
       "None"
      ]
     },
     "metadata": {},
     "output_type": "display_data"
    },
    {
     "data": {
      "text/html": [
       "<div>\n",
       "<style scoped>\n",
       "    .dataframe tbody tr th:only-of-type {\n",
       "        vertical-align: middle;\n",
       "    }\n",
       "\n",
       "    .dataframe tbody tr th {\n",
       "        vertical-align: top;\n",
       "    }\n",
       "\n",
       "    .dataframe thead tr th {\n",
       "        text-align: left;\n",
       "    }\n",
       "\n",
       "    .dataframe thead tr:last-of-type th {\n",
       "        text-align: right;\n",
       "    }\n",
       "</style>\n",
       "<table border=\"1\" class=\"dataframe\">\n",
       "  <thead>\n",
       "    <tr>\n",
       "      <th></th>\n",
       "      <th>mean</th>\n",
       "      <th>count</th>\n",
       "      <th>ratio, %</th>\n",
       "    </tr>\n",
       "    <tr>\n",
       "      <th></th>\n",
       "      <th>alcohol</th>\n",
       "      <th>alcohol</th>\n",
       "      <th></th>\n",
       "    </tr>\n",
       "    <tr>\n",
       "      <th>quality</th>\n",
       "      <th></th>\n",
       "      <th></th>\n",
       "      <th></th>\n",
       "    </tr>\n",
       "  </thead>\n",
       "  <tbody>\n",
       "    <tr>\n",
       "      <th>4</th>\n",
       "      <td>10.180556</td>\n",
       "      <td>108</td>\n",
       "      <td>3.34</td>\n",
       "    </tr>\n",
       "    <tr>\n",
       "      <th>5</th>\n",
       "      <td>9.846333</td>\n",
       "      <td>1069</td>\n",
       "      <td>33.09</td>\n",
       "    </tr>\n",
       "    <tr>\n",
       "      <th>6</th>\n",
       "      <td>10.578573</td>\n",
       "      <td>1418</td>\n",
       "      <td>43.89</td>\n",
       "    </tr>\n",
       "    <tr>\n",
       "      <th>7</th>\n",
       "      <td>11.445659</td>\n",
       "      <td>539</td>\n",
       "      <td>16.68</td>\n",
       "    </tr>\n",
       "    <tr>\n",
       "      <th>8</th>\n",
       "      <td>11.559794</td>\n",
       "      <td>97</td>\n",
       "      <td>3.00</td>\n",
       "    </tr>\n",
       "  </tbody>\n",
       "</table>\n",
       "</div>"
      ],
      "text/plain": [
       "              mean   count ratio, %\n",
       "           alcohol alcohol         \n",
       "quality                            \n",
       "4        10.180556     108     3.34\n",
       "5         9.846333    1069    33.09\n",
       "6        10.578573    1418    43.89\n",
       "7        11.445659     539    16.68\n",
       "8        11.559794      97     3.00"
      ]
     },
     "metadata": {},
     "output_type": "display_data"
    }
   ],
   "source": [
    "display(create_pivot_smote(10), create_plot_smote(10), create_pivot(10))"
   ]
  },
  {
   "cell_type": "markdown",
   "metadata": {},
   "source": [
    "<br>\n",
    "\n",
    "## 예측 및 제출"
   ]
  },
  {
   "cell_type": "code",
   "execution_count": 206,
   "metadata": {},
   "outputs": [],
   "source": [
    "preds = np.mean(preds_et_smote, axis = 0)  # ExtraTreesClassifier smote 기준으로 제출\n",
    "\n",
    "final_preds = np.round(preds).astype('int64')"
   ]
  },
  {
   "cell_type": "code",
   "execution_count": 207,
   "metadata": {},
   "outputs": [],
   "source": [
    "# submission = pd.read_csv('./dataset/sample_submission.csv')\n",
    "\n",
    "# submission['quality'] = final_preds"
   ]
  },
  {
   "cell_type": "code",
   "execution_count": 208,
   "metadata": {},
   "outputs": [],
   "source": [
    "# submission.to_csv('./dataset/submission_05.csv', index=False)"
   ]
  }
 ],
 "metadata": {
  "kernelspec": {
   "display_name": "Python 3",
   "language": "python",
   "name": "python3"
  },
  "language_info": {
   "codemirror_mode": {
    "name": "ipython",
    "version": 3
   },
   "file_extension": ".py",
   "mimetype": "text/x-python",
   "name": "python",
   "nbconvert_exporter": "python",
   "pygments_lexer": "ipython3",
   "version": "3.8.5"
  },
  "toc": {
   "base_numbering": 1,
   "nav_menu": {},
   "number_sections": false,
   "sideBar": true,
   "skip_h1_title": false,
   "title_cell": "Table of Contents",
   "title_sidebar": "Contents",
   "toc_cell": false,
   "toc_position": {
    "height": "calc(100% - 180px)",
    "left": "10px",
    "top": "150px",
    "width": "384px"
   },
   "toc_section_display": true,
   "toc_window_display": true
  }
 },
 "nbformat": 4,
 "nbformat_minor": 4
}
